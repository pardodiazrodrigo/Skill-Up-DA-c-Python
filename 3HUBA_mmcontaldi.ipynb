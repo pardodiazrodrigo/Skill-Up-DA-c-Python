{
  "nbformat": 4,
  "nbformat_minor": 0,
  "metadata": {
    "colab": {
      "provenance": [],
      "collapsed_sections": [
        "mHWFbKdWanz2"
      ]
    },
    "kernelspec": {
      "name": "python3",
      "display_name": "Python 3"
    },
    "language_info": {
      "name": "python"
    }
  },
  "cells": [
    {
      "cell_type": "markdown",
      "source": [
        "# MyData Alkemy Project -- Grupo 3\n",
        "\n",
        "Estadísticas sobre la universidad, grupo H: UBA\n"
      ],
      "metadata": {
        "id": "pwfRbUeTnNTP"
      }
    },
    {
      "cell_type": "code",
      "metadata": {
        "id": "geCPADm6llzI"
      },
      "source": [
        "import pandas as pd\n",
        "url= '/content/drive/MyDrive/Alkemy/G3H_UBA.csv'\n"
      ],
      "execution_count": null,
      "outputs": []
    },
    {
      "cell_type": "code",
      "source": [
        "data3uba= pd.read_csv(url, sep = ',')\n"
      ],
      "metadata": {
        "id": "7CGueHfAoDJW"
      },
      "execution_count": null,
      "outputs": []
    },
    {
      "cell_type": "code",
      "source": [
        "data3uba.head(5)\n"
      ],
      "metadata": {
        "colab": {
          "base_uri": "https://localhost:8080/",
          "height": 337
        },
        "id": "H8t_XqDqoGLW",
        "outputId": "7965eb4f-d7cf-415c-ad4f-32da2ee6a24e"
      },
      "execution_count": null,
      "outputs": [
        {
          "output_type": "execute_result",
          "data": {
            "text/plain": [
              "            name gender                                            address  \\\n",
              "0    daniel-haas      m       228-robert-branch\\nnorth-joanville,-ms-67810   \n",
              "1    amy-wallace      f  4440-edward-junctions-apt.-088\\neast-brian,-ar...   \n",
              "2      jody-kirk      f           3452-adam-mountains\\nkingburgh,-mn-04132   \n",
              "3  angela-hudson      f            8672-rasmussen-way\\nleviville,-id-98957   \n",
              "4   ashley-brown      f                   psc-6274,-box-1394\\napo-ap-22919   \n",
              "\n",
              "                       emails birth_date                 universities  \\\n",
              "0          kwoods@hotmail.com  71-Oct-17  universidad-de-buenos-aires   \n",
              "1       brookejones@yahoo.com  21-Mar-12  universidad-de-buenos-aires   \n",
              "2      tinaturner@hotmail.com  67-Oct-26  universidad-de-buenos-aires   \n",
              "3        cpatterson@yahoo.com  05-Feb-21  universidad-de-buenos-aires   \n",
              "4  turnerveronica@hotmail.com  35-Sep-28  universidad-de-buenos-aires   \n",
              "\n",
              "  inscription_date                                   careers  zipcodes  \n",
              "0        19-Oct-26                   técnico-para-bioterios-      3192  \n",
              "1        20-Sep-24                                 actuario-      8431  \n",
              "2        21-Jul-14                                 actuario-      3425  \n",
              "3        20-Sep-27  licenciatura-en-gestión-de-agroalimentos      3151  \n",
              "4        20-Feb-01                 ingeniería-en-informática      6706  "
            ],
            "text/html": [
              "\n",
              "  <div id=\"df-89d1fa16-a279-45ff-be89-816e613c17ef\">\n",
              "    <div class=\"colab-df-container\">\n",
              "      <div>\n",
              "<style scoped>\n",
              "    .dataframe tbody tr th:only-of-type {\n",
              "        vertical-align: middle;\n",
              "    }\n",
              "\n",
              "    .dataframe tbody tr th {\n",
              "        vertical-align: top;\n",
              "    }\n",
              "\n",
              "    .dataframe thead th {\n",
              "        text-align: right;\n",
              "    }\n",
              "</style>\n",
              "<table border=\"1\" class=\"dataframe\">\n",
              "  <thead>\n",
              "    <tr style=\"text-align: right;\">\n",
              "      <th></th>\n",
              "      <th>name</th>\n",
              "      <th>gender</th>\n",
              "      <th>address</th>\n",
              "      <th>emails</th>\n",
              "      <th>birth_date</th>\n",
              "      <th>universities</th>\n",
              "      <th>inscription_date</th>\n",
              "      <th>careers</th>\n",
              "      <th>zipcodes</th>\n",
              "    </tr>\n",
              "  </thead>\n",
              "  <tbody>\n",
              "    <tr>\n",
              "      <th>0</th>\n",
              "      <td>daniel-haas</td>\n",
              "      <td>m</td>\n",
              "      <td>228-robert-branch\\nnorth-joanville,-ms-67810</td>\n",
              "      <td>kwoods@hotmail.com</td>\n",
              "      <td>71-Oct-17</td>\n",
              "      <td>universidad-de-buenos-aires</td>\n",
              "      <td>19-Oct-26</td>\n",
              "      <td>técnico-para-bioterios-</td>\n",
              "      <td>3192</td>\n",
              "    </tr>\n",
              "    <tr>\n",
              "      <th>1</th>\n",
              "      <td>amy-wallace</td>\n",
              "      <td>f</td>\n",
              "      <td>4440-edward-junctions-apt.-088\\neast-brian,-ar...</td>\n",
              "      <td>brookejones@yahoo.com</td>\n",
              "      <td>21-Mar-12</td>\n",
              "      <td>universidad-de-buenos-aires</td>\n",
              "      <td>20-Sep-24</td>\n",
              "      <td>actuario-</td>\n",
              "      <td>8431</td>\n",
              "    </tr>\n",
              "    <tr>\n",
              "      <th>2</th>\n",
              "      <td>jody-kirk</td>\n",
              "      <td>f</td>\n",
              "      <td>3452-adam-mountains\\nkingburgh,-mn-04132</td>\n",
              "      <td>tinaturner@hotmail.com</td>\n",
              "      <td>67-Oct-26</td>\n",
              "      <td>universidad-de-buenos-aires</td>\n",
              "      <td>21-Jul-14</td>\n",
              "      <td>actuario-</td>\n",
              "      <td>3425</td>\n",
              "    </tr>\n",
              "    <tr>\n",
              "      <th>3</th>\n",
              "      <td>angela-hudson</td>\n",
              "      <td>f</td>\n",
              "      <td>8672-rasmussen-way\\nleviville,-id-98957</td>\n",
              "      <td>cpatterson@yahoo.com</td>\n",
              "      <td>05-Feb-21</td>\n",
              "      <td>universidad-de-buenos-aires</td>\n",
              "      <td>20-Sep-27</td>\n",
              "      <td>licenciatura-en-gestión-de-agroalimentos</td>\n",
              "      <td>3151</td>\n",
              "    </tr>\n",
              "    <tr>\n",
              "      <th>4</th>\n",
              "      <td>ashley-brown</td>\n",
              "      <td>f</td>\n",
              "      <td>psc-6274,-box-1394\\napo-ap-22919</td>\n",
              "      <td>turnerveronica@hotmail.com</td>\n",
              "      <td>35-Sep-28</td>\n",
              "      <td>universidad-de-buenos-aires</td>\n",
              "      <td>20-Feb-01</td>\n",
              "      <td>ingeniería-en-informática</td>\n",
              "      <td>6706</td>\n",
              "    </tr>\n",
              "  </tbody>\n",
              "</table>\n",
              "</div>\n",
              "      <button class=\"colab-df-convert\" onclick=\"convertToInteractive('df-89d1fa16-a279-45ff-be89-816e613c17ef')\"\n",
              "              title=\"Convert this dataframe to an interactive table.\"\n",
              "              style=\"display:none;\">\n",
              "        \n",
              "  <svg xmlns=\"http://www.w3.org/2000/svg\" height=\"24px\"viewBox=\"0 0 24 24\"\n",
              "       width=\"24px\">\n",
              "    <path d=\"M0 0h24v24H0V0z\" fill=\"none\"/>\n",
              "    <path d=\"M18.56 5.44l.94 2.06.94-2.06 2.06-.94-2.06-.94-.94-2.06-.94 2.06-2.06.94zm-11 1L8.5 8.5l.94-2.06 2.06-.94-2.06-.94L8.5 2.5l-.94 2.06-2.06.94zm10 10l.94 2.06.94-2.06 2.06-.94-2.06-.94-.94-2.06-.94 2.06-2.06.94z\"/><path d=\"M17.41 7.96l-1.37-1.37c-.4-.4-.92-.59-1.43-.59-.52 0-1.04.2-1.43.59L10.3 9.45l-7.72 7.72c-.78.78-.78 2.05 0 2.83L4 21.41c.39.39.9.59 1.41.59.51 0 1.02-.2 1.41-.59l7.78-7.78 2.81-2.81c.8-.78.8-2.07 0-2.86zM5.41 20L4 18.59l7.72-7.72 1.47 1.35L5.41 20z\"/>\n",
              "  </svg>\n",
              "      </button>\n",
              "      \n",
              "  <style>\n",
              "    .colab-df-container {\n",
              "      display:flex;\n",
              "      flex-wrap:wrap;\n",
              "      gap: 12px;\n",
              "    }\n",
              "\n",
              "    .colab-df-convert {\n",
              "      background-color: #E8F0FE;\n",
              "      border: none;\n",
              "      border-radius: 50%;\n",
              "      cursor: pointer;\n",
              "      display: none;\n",
              "      fill: #1967D2;\n",
              "      height: 32px;\n",
              "      padding: 0 0 0 0;\n",
              "      width: 32px;\n",
              "    }\n",
              "\n",
              "    .colab-df-convert:hover {\n",
              "      background-color: #E2EBFA;\n",
              "      box-shadow: 0px 1px 2px rgba(60, 64, 67, 0.3), 0px 1px 3px 1px rgba(60, 64, 67, 0.15);\n",
              "      fill: #174EA6;\n",
              "    }\n",
              "\n",
              "    [theme=dark] .colab-df-convert {\n",
              "      background-color: #3B4455;\n",
              "      fill: #D2E3FC;\n",
              "    }\n",
              "\n",
              "    [theme=dark] .colab-df-convert:hover {\n",
              "      background-color: #434B5C;\n",
              "      box-shadow: 0px 1px 3px 1px rgba(0, 0, 0, 0.15);\n",
              "      filter: drop-shadow(0px 1px 2px rgba(0, 0, 0, 0.3));\n",
              "      fill: #FFFFFF;\n",
              "    }\n",
              "  </style>\n",
              "\n",
              "      <script>\n",
              "        const buttonEl =\n",
              "          document.querySelector('#df-89d1fa16-a279-45ff-be89-816e613c17ef button.colab-df-convert');\n",
              "        buttonEl.style.display =\n",
              "          google.colab.kernel.accessAllowed ? 'block' : 'none';\n",
              "\n",
              "        async function convertToInteractive(key) {\n",
              "          const element = document.querySelector('#df-89d1fa16-a279-45ff-be89-816e613c17ef');\n",
              "          const dataTable =\n",
              "            await google.colab.kernel.invokeFunction('convertToInteractive',\n",
              "                                                     [key], {});\n",
              "          if (!dataTable) return;\n",
              "\n",
              "          const docLinkHtml = 'Like what you see? Visit the ' +\n",
              "            '<a target=\"_blank\" href=https://colab.research.google.com/notebooks/data_table.ipynb>data table notebook</a>'\n",
              "            + ' to learn more about interactive tables.';\n",
              "          element.innerHTML = '';\n",
              "          dataTable['output_type'] = 'display_data';\n",
              "          await google.colab.output.renderOutput(dataTable, element);\n",
              "          const docLink = document.createElement('div');\n",
              "          docLink.innerHTML = docLinkHtml;\n",
              "          element.appendChild(docLink);\n",
              "        }\n",
              "      </script>\n",
              "    </div>\n",
              "  </div>\n",
              "  "
            ]
          },
          "metadata": {},
          "execution_count": 4
        }
      ]
    },
    {
      "cell_type": "code",
      "metadata": {
        "colab": {
          "base_uri": "https://localhost:8080/"
        },
        "id": "9dbt73BAxnju",
        "outputId": "5b14f370-5d29-4355-8e94-fc00cc25d0f5"
      },
      "source": [
        "data3uba.shape"
      ],
      "execution_count": null,
      "outputs": [
        {
          "output_type": "execute_result",
          "data": {
            "text/plain": [
              "(9954, 9)"
            ]
          },
          "metadata": {},
          "execution_count": 5
        }
      ]
    },
    {
      "cell_type": "code",
      "metadata": {
        "colab": {
          "base_uri": "https://localhost:8080/"
        },
        "id": "Kpb3JTQ_xpas",
        "outputId": "646824ca-e500-479c-a0ac-6cf29c01ae2f"
      },
      "source": [
        "data3uba.info()"
      ],
      "execution_count": null,
      "outputs": [
        {
          "output_type": "stream",
          "name": "stdout",
          "text": [
            "<class 'pandas.core.frame.DataFrame'>\n",
            "RangeIndex: 9954 entries, 0 to 9953\n",
            "Data columns (total 9 columns):\n",
            " #   Column            Non-Null Count  Dtype \n",
            "---  ------            --------------  ----- \n",
            " 0   name              9954 non-null   object\n",
            " 1   gender            9954 non-null   object\n",
            " 2   address           9954 non-null   object\n",
            " 3   emails            9954 non-null   object\n",
            " 4   birth_date        9954 non-null   object\n",
            " 5   universities      9954 non-null   object\n",
            " 6   inscription_date  9954 non-null   object\n",
            " 7   careers           9954 non-null   object\n",
            " 8   zipcodes          9954 non-null   int64 \n",
            "dtypes: int64(1), object(8)\n",
            "memory usage: 700.0+ KB\n"
          ]
        }
      ]
    },
    {
      "cell_type": "markdown",
      "source": [
        "**El Dataframe debe ser modificado**\n"
      ],
      "metadata": {
        "id": "CKb8n35L1Fjz"
      }
    },
    {
      "cell_type": "code",
      "source": [
        "uniba= data3uba['universities'].astype(str)\n",
        "names= data3uba['name'].astype(str)\n",
        "career = data3uba['careers'].astype(str)\n",
        "emails = data3uba['emails'].astype(str)\n",
        "gender = data3uba['gender'].astype(str)\n",
        "zipcodes = data3uba['zipcodes'].astype(str)\n",
        "address = data3uba['address'].astype(str)"
      ],
      "metadata": {
        "id": "HhmAxvMtpXUX"
      },
      "execution_count": null,
      "outputs": []
    },
    {
      "cell_type": "code",
      "source": [
        "from datetime import datetime\n",
        "from datetime import timedelta"
      ],
      "metadata": {
        "id": "Mvd9QKmtwcWk"
      },
      "execution_count": null,
      "outputs": []
    },
    {
      "cell_type": "code",
      "source": [
        "inscript = pd.Series( data3uba['inscription_date'])\n",
        "print(inscript\n",
        "      )"
      ],
      "metadata": {
        "colab": {
          "base_uri": "https://localhost:8080/"
        },
        "id": "phetX4kPwAp5",
        "outputId": "c772d173-31c0-45da-9ea7-ef11a61e4f5a"
      },
      "execution_count": null,
      "outputs": [
        {
          "output_type": "stream",
          "name": "stdout",
          "text": [
            "0       19-Oct-26\n",
            "1       20-Sep-24\n",
            "2       21-Jul-14\n",
            "3       20-Sep-27\n",
            "4       20-Feb-01\n",
            "          ...    \n",
            "9949    21-Jun-24\n",
            "9950    21-Nov-12\n",
            "9951    20-Mar-31\n",
            "9952    20-Jan-05\n",
            "9953    20-Nov-18\n",
            "Name: inscription_date, Length: 9954, dtype: object\n"
          ]
        }
      ]
    },
    {
      "cell_type": "code",
      "source": [
        "inscript = inscript.apply(lambda x: datetime.strptime(x, \"%y-%b-%d\"))\n",
        "print(inscript)"
      ],
      "metadata": {
        "colab": {
          "base_uri": "https://localhost:8080/"
        },
        "id": "As8hi1rtwc6g",
        "outputId": "ed1949b1-d19d-448e-feb3-fdd87698f309"
      },
      "execution_count": null,
      "outputs": [
        {
          "output_type": "stream",
          "name": "stdout",
          "text": [
            "0      2019-10-26\n",
            "1      2020-09-24\n",
            "2      2021-07-14\n",
            "3      2020-09-27\n",
            "4      2020-02-01\n",
            "          ...    \n",
            "9949   2021-06-24\n",
            "9950   2021-11-12\n",
            "9951   2020-03-31\n",
            "9952   2020-01-05\n",
            "9953   2020-11-18\n",
            "Name: inscription_date, Length: 9954, dtype: datetime64[ns]\n"
          ]
        }
      ]
    },
    {
      "cell_type": "code",
      "source": [
        "from datetime import datetime\n",
        "bdate =data3uba['birth_date'].values\n",
        "print(bdate)\n",
        "#bdate = pd.to_datetime(data3uba['birth_date'], format= '%y-%b-%d')"
      ],
      "metadata": {
        "colab": {
          "base_uri": "https://localhost:8080/"
        },
        "id": "LB7HFh545spF",
        "outputId": "f5c8fe1c-d0bc-4ea6-c9c5-832abcac440e"
      },
      "execution_count": null,
      "outputs": [
        {
          "output_type": "stream",
          "name": "stdout",
          "text": [
            "['71-Oct-17' '21-Mar-12' '67-Oct-26' ... '05-Jun-16' '62-Dec-10'\n",
            " '62-Jul-03']\n"
          ]
        }
      ]
    },
    {
      "cell_type": "code",
      "source": [
        "bdate = pd.DataFrame(bdate)\n",
        "bdate.info()"
      ],
      "metadata": {
        "colab": {
          "base_uri": "https://localhost:8080/"
        },
        "id": "7pQip8L_kW-D",
        "outputId": "a97d8d3c-3604-4106-ad86-059a6cc3a127"
      },
      "execution_count": null,
      "outputs": [
        {
          "output_type": "stream",
          "name": "stdout",
          "text": [
            "<class 'pandas.core.frame.DataFrame'>\n",
            "RangeIndex: 9954 entries, 0 to 9953\n",
            "Data columns (total 1 columns):\n",
            " #   Column  Non-Null Count  Dtype \n",
            "---  ------  --------------  ----- \n",
            " 0   0       9954 non-null   object\n",
            "dtypes: object(1)\n",
            "memory usage: 77.9+ KB\n"
          ]
        }
      ]
    },
    {
      "cell_type": "code",
      "source": [
        "data3uba['universities']= data3uba['universities'].astype(str)\n",
        "data3uba['name']= data3uba['name'].astype(str)\n",
        "data3uba['careers'] = data3uba['careers'].astype(str)\n",
        "data3uba['emails']= data3uba['emails'].astype(str)\n",
        "data3uba['gender']= data3uba['gender'].astype(str)\n",
        "data3uba['zipcodes']= data3uba['zipcodes'].astype(str)\n",
        "data3uba['address']= data3uba['address'].astype(str)"
      ],
      "metadata": {
        "id": "GrYRoA-KpXFS"
      },
      "execution_count": null,
      "outputs": []
    },
    {
      "cell_type": "code",
      "source": [],
      "metadata": {
        "id": "10j8n9xjvzqr"
      },
      "execution_count": null,
      "outputs": []
    },
    {
      "cell_type": "code",
      "source": [
        "data3uba['universities']= data3uba['universities'].apply(lambda x: x.strip())\n",
        "data3uba['name']= data3uba['name'].apply(lambda x: x.strip())\n",
        "data3uba['careers'] = data3uba['careers'].apply(lambda x: x.strip())\n",
        "data3uba['emails']= data3uba['emails'].apply(lambda x: x.strip())\n",
        "data3uba['gender']= data3uba['gender'].apply(lambda x: x.strip())\n",
        "data3uba['zipcodes']= data3uba['zipcodes'].apply(lambda x: x.strip())\n",
        "data3uba['address']= data3uba['address'].apply(lambda x: x.strip())"
      ],
      "metadata": {
        "id": "29vwba_q1Wem"
      },
      "execution_count": null,
      "outputs": []
    },
    {
      "cell_type": "code",
      "source": [
        "data3uba.info()"
      ],
      "metadata": {
        "colab": {
          "base_uri": "https://localhost:8080/"
        },
        "id": "hCG2DD62vdGv",
        "outputId": "0f26399a-3075-4617-e8e5-8cb667842db0"
      },
      "execution_count": null,
      "outputs": [
        {
          "output_type": "stream",
          "name": "stdout",
          "text": [
            "<class 'pandas.core.frame.DataFrame'>\n",
            "RangeIndex: 9954 entries, 0 to 9953\n",
            "Data columns (total 9 columns):\n",
            " #   Column            Non-Null Count  Dtype \n",
            "---  ------            --------------  ----- \n",
            " 0   name              9954 non-null   object\n",
            " 1   gender            9954 non-null   object\n",
            " 2   address           9954 non-null   object\n",
            " 3   emails            9954 non-null   object\n",
            " 4   birth_date        9954 non-null   object\n",
            " 5   universities      9954 non-null   object\n",
            " 6   inscription_date  9954 non-null   object\n",
            " 7   careers           9954 non-null   object\n",
            " 8   zipcodes          9954 non-null   object\n",
            "dtypes: object(9)\n",
            "memory usage: 700.0+ KB\n"
          ]
        }
      ]
    },
    {
      "cell_type": "code",
      "source": [
        "data3uba.head()"
      ],
      "metadata": {
        "colab": {
          "base_uri": "https://localhost:8080/",
          "height": 337
        },
        "id": "ZXdrEWHlEEij",
        "outputId": "952a2f74-1bff-40c3-8849-33670abb02ae"
      },
      "execution_count": null,
      "outputs": [
        {
          "output_type": "execute_result",
          "data": {
            "text/plain": [
              "            name gender                                            address  \\\n",
              "0    daniel-haas      m       228-robert-branch\\nnorth-joanville,-ms-67810   \n",
              "1    amy-wallace      f  4440-edward-junctions-apt.-088\\neast-brian,-ar...   \n",
              "2      jody-kirk      f           3452-adam-mountains\\nkingburgh,-mn-04132   \n",
              "3  angela-hudson      f            8672-rasmussen-way\\nleviville,-id-98957   \n",
              "4   ashley-brown      f                   psc-6274,-box-1394\\napo-ap-22919   \n",
              "\n",
              "                       emails birth_date                 universities  \\\n",
              "0          kwoods@hotmail.com  71-Oct-17  universidad-de-buenos-aires   \n",
              "1       brookejones@yahoo.com  21-Mar-12  universidad-de-buenos-aires   \n",
              "2      tinaturner@hotmail.com  67-Oct-26  universidad-de-buenos-aires   \n",
              "3        cpatterson@yahoo.com  05-Feb-21  universidad-de-buenos-aires   \n",
              "4  turnerveronica@hotmail.com  35-Sep-28  universidad-de-buenos-aires   \n",
              "\n",
              "  inscription_date                                   careers zipcodes  \n",
              "0        19-Oct-26                   técnico-para-bioterios-     3192  \n",
              "1        20-Sep-24                                 actuario-     8431  \n",
              "2        21-Jul-14                                 actuario-     3425  \n",
              "3        20-Sep-27  licenciatura-en-gestión-de-agroalimentos     3151  \n",
              "4        20-Feb-01                 ingeniería-en-informática     6706  "
            ],
            "text/html": [
              "\n",
              "  <div id=\"df-371e883f-8a76-4f01-bb24-5888e4192b55\">\n",
              "    <div class=\"colab-df-container\">\n",
              "      <div>\n",
              "<style scoped>\n",
              "    .dataframe tbody tr th:only-of-type {\n",
              "        vertical-align: middle;\n",
              "    }\n",
              "\n",
              "    .dataframe tbody tr th {\n",
              "        vertical-align: top;\n",
              "    }\n",
              "\n",
              "    .dataframe thead th {\n",
              "        text-align: right;\n",
              "    }\n",
              "</style>\n",
              "<table border=\"1\" class=\"dataframe\">\n",
              "  <thead>\n",
              "    <tr style=\"text-align: right;\">\n",
              "      <th></th>\n",
              "      <th>name</th>\n",
              "      <th>gender</th>\n",
              "      <th>address</th>\n",
              "      <th>emails</th>\n",
              "      <th>birth_date</th>\n",
              "      <th>universities</th>\n",
              "      <th>inscription_date</th>\n",
              "      <th>careers</th>\n",
              "      <th>zipcodes</th>\n",
              "    </tr>\n",
              "  </thead>\n",
              "  <tbody>\n",
              "    <tr>\n",
              "      <th>0</th>\n",
              "      <td>daniel-haas</td>\n",
              "      <td>m</td>\n",
              "      <td>228-robert-branch\\nnorth-joanville,-ms-67810</td>\n",
              "      <td>kwoods@hotmail.com</td>\n",
              "      <td>71-Oct-17</td>\n",
              "      <td>universidad-de-buenos-aires</td>\n",
              "      <td>19-Oct-26</td>\n",
              "      <td>técnico-para-bioterios-</td>\n",
              "      <td>3192</td>\n",
              "    </tr>\n",
              "    <tr>\n",
              "      <th>1</th>\n",
              "      <td>amy-wallace</td>\n",
              "      <td>f</td>\n",
              "      <td>4440-edward-junctions-apt.-088\\neast-brian,-ar...</td>\n",
              "      <td>brookejones@yahoo.com</td>\n",
              "      <td>21-Mar-12</td>\n",
              "      <td>universidad-de-buenos-aires</td>\n",
              "      <td>20-Sep-24</td>\n",
              "      <td>actuario-</td>\n",
              "      <td>8431</td>\n",
              "    </tr>\n",
              "    <tr>\n",
              "      <th>2</th>\n",
              "      <td>jody-kirk</td>\n",
              "      <td>f</td>\n",
              "      <td>3452-adam-mountains\\nkingburgh,-mn-04132</td>\n",
              "      <td>tinaturner@hotmail.com</td>\n",
              "      <td>67-Oct-26</td>\n",
              "      <td>universidad-de-buenos-aires</td>\n",
              "      <td>21-Jul-14</td>\n",
              "      <td>actuario-</td>\n",
              "      <td>3425</td>\n",
              "    </tr>\n",
              "    <tr>\n",
              "      <th>3</th>\n",
              "      <td>angela-hudson</td>\n",
              "      <td>f</td>\n",
              "      <td>8672-rasmussen-way\\nleviville,-id-98957</td>\n",
              "      <td>cpatterson@yahoo.com</td>\n",
              "      <td>05-Feb-21</td>\n",
              "      <td>universidad-de-buenos-aires</td>\n",
              "      <td>20-Sep-27</td>\n",
              "      <td>licenciatura-en-gestión-de-agroalimentos</td>\n",
              "      <td>3151</td>\n",
              "    </tr>\n",
              "    <tr>\n",
              "      <th>4</th>\n",
              "      <td>ashley-brown</td>\n",
              "      <td>f</td>\n",
              "      <td>psc-6274,-box-1394\\napo-ap-22919</td>\n",
              "      <td>turnerveronica@hotmail.com</td>\n",
              "      <td>35-Sep-28</td>\n",
              "      <td>universidad-de-buenos-aires</td>\n",
              "      <td>20-Feb-01</td>\n",
              "      <td>ingeniería-en-informática</td>\n",
              "      <td>6706</td>\n",
              "    </tr>\n",
              "  </tbody>\n",
              "</table>\n",
              "</div>\n",
              "      <button class=\"colab-df-convert\" onclick=\"convertToInteractive('df-371e883f-8a76-4f01-bb24-5888e4192b55')\"\n",
              "              title=\"Convert this dataframe to an interactive table.\"\n",
              "              style=\"display:none;\">\n",
              "        \n",
              "  <svg xmlns=\"http://www.w3.org/2000/svg\" height=\"24px\"viewBox=\"0 0 24 24\"\n",
              "       width=\"24px\">\n",
              "    <path d=\"M0 0h24v24H0V0z\" fill=\"none\"/>\n",
              "    <path d=\"M18.56 5.44l.94 2.06.94-2.06 2.06-.94-2.06-.94-.94-2.06-.94 2.06-2.06.94zm-11 1L8.5 8.5l.94-2.06 2.06-.94-2.06-.94L8.5 2.5l-.94 2.06-2.06.94zm10 10l.94 2.06.94-2.06 2.06-.94-2.06-.94-.94-2.06-.94 2.06-2.06.94z\"/><path d=\"M17.41 7.96l-1.37-1.37c-.4-.4-.92-.59-1.43-.59-.52 0-1.04.2-1.43.59L10.3 9.45l-7.72 7.72c-.78.78-.78 2.05 0 2.83L4 21.41c.39.39.9.59 1.41.59.51 0 1.02-.2 1.41-.59l7.78-7.78 2.81-2.81c.8-.78.8-2.07 0-2.86zM5.41 20L4 18.59l7.72-7.72 1.47 1.35L5.41 20z\"/>\n",
              "  </svg>\n",
              "      </button>\n",
              "      \n",
              "  <style>\n",
              "    .colab-df-container {\n",
              "      display:flex;\n",
              "      flex-wrap:wrap;\n",
              "      gap: 12px;\n",
              "    }\n",
              "\n",
              "    .colab-df-convert {\n",
              "      background-color: #E8F0FE;\n",
              "      border: none;\n",
              "      border-radius: 50%;\n",
              "      cursor: pointer;\n",
              "      display: none;\n",
              "      fill: #1967D2;\n",
              "      height: 32px;\n",
              "      padding: 0 0 0 0;\n",
              "      width: 32px;\n",
              "    }\n",
              "\n",
              "    .colab-df-convert:hover {\n",
              "      background-color: #E2EBFA;\n",
              "      box-shadow: 0px 1px 2px rgba(60, 64, 67, 0.3), 0px 1px 3px 1px rgba(60, 64, 67, 0.15);\n",
              "      fill: #174EA6;\n",
              "    }\n",
              "\n",
              "    [theme=dark] .colab-df-convert {\n",
              "      background-color: #3B4455;\n",
              "      fill: #D2E3FC;\n",
              "    }\n",
              "\n",
              "    [theme=dark] .colab-df-convert:hover {\n",
              "      background-color: #434B5C;\n",
              "      box-shadow: 0px 1px 3px 1px rgba(0, 0, 0, 0.15);\n",
              "      filter: drop-shadow(0px 1px 2px rgba(0, 0, 0, 0.3));\n",
              "      fill: #FFFFFF;\n",
              "    }\n",
              "  </style>\n",
              "\n",
              "      <script>\n",
              "        const buttonEl =\n",
              "          document.querySelector('#df-371e883f-8a76-4f01-bb24-5888e4192b55 button.colab-df-convert');\n",
              "        buttonEl.style.display =\n",
              "          google.colab.kernel.accessAllowed ? 'block' : 'none';\n",
              "\n",
              "        async function convertToInteractive(key) {\n",
              "          const element = document.querySelector('#df-371e883f-8a76-4f01-bb24-5888e4192b55');\n",
              "          const dataTable =\n",
              "            await google.colab.kernel.invokeFunction('convertToInteractive',\n",
              "                                                     [key], {});\n",
              "          if (!dataTable) return;\n",
              "\n",
              "          const docLinkHtml = 'Like what you see? Visit the ' +\n",
              "            '<a target=\"_blank\" href=https://colab.research.google.com/notebooks/data_table.ipynb>data table notebook</a>'\n",
              "            + ' to learn more about interactive tables.';\n",
              "          element.innerHTML = '';\n",
              "          dataTable['output_type'] = 'display_data';\n",
              "          await google.colab.output.renderOutput(dataTable, element);\n",
              "          const docLink = document.createElement('div');\n",
              "          docLink.innerHTML = docLinkHtml;\n",
              "          element.appendChild(docLink);\n",
              "        }\n",
              "      </script>\n",
              "    </div>\n",
              "  </div>\n",
              "  "
            ]
          },
          "metadata": {},
          "execution_count": 16
        }
      ]
    },
    {
      "cell_type": "code",
      "source": [
        "from datetime import datetime\n",
        "from datetime import timedelta"
      ],
      "metadata": {
        "id": "TR-IUTcf_45R"
      },
      "execution_count": null,
      "outputs": []
    },
    {
      "cell_type": "code",
      "source": [
        "today = datetime.now()\n",
        "#today = print(today.day, today.month, today.year)\n",
        "today"
      ],
      "metadata": {
        "colab": {
          "base_uri": "https://localhost:8080/"
        },
        "id": "ZgEmKR6mAeb_",
        "outputId": "0fdd22d6-f72c-49d1-f250-51e9d9b92370"
      },
      "execution_count": null,
      "outputs": [
        {
          "output_type": "execute_result",
          "data": {
            "text/plain": [
              "datetime.datetime(2022, 11, 16, 12, 57, 2, 444674)"
            ]
          },
          "metadata": {},
          "execution_count": 27
        }
      ]
    },
    {
      "cell_type": "code",
      "source": [
        "age18 = today - timedelta(days = 6570 )\n",
        "age18\n",
        "    "
      ],
      "metadata": {
        "colab": {
          "base_uri": "https://localhost:8080/"
        },
        "id": "gvPoHtlQfKwK",
        "outputId": "508d7518-a3cf-483d-e05c-223a4d438509"
      },
      "execution_count": null,
      "outputs": [
        {
          "output_type": "execute_result",
          "data": {
            "text/plain": [
              "datetime.datetime(2004, 11, 20, 12, 57, 2, 444674)"
            ]
          },
          "metadata": {},
          "execution_count": 28
        }
      ]
    },
    {
      "cell_type": "code",
      "source": [
        "data3uba['birth_date'].head()\n",
        "print(str(data3uba['birth_date']))"
      ],
      "metadata": {
        "colab": {
          "base_uri": "https://localhost:8080/"
        },
        "id": "P688xOce0C0J",
        "outputId": "7558fff6-496d-4f7b-d6db-a6b7123f0203"
      },
      "execution_count": null,
      "outputs": [
        {
          "output_type": "stream",
          "name": "stdout",
          "text": [
            "0       71-Oct-17\n",
            "1       21-Mar-12\n",
            "2       67-Oct-26\n",
            "3       05-Feb-21\n",
            "4       35-Sep-28\n",
            "          ...    \n",
            "9949    31-Nov-23\n",
            "9950    09-Aug-14\n",
            "9951    05-Jun-16\n",
            "9952    62-Dec-10\n",
            "9953    62-Jul-03\n",
            "Name: birth_date, Length: 9954, dtype: object\n"
          ]
        }
      ]
    },
    {
      "cell_type": "code",
      "source": [
        "birthday = data3uba['birth_date'].apply(lambda x: datetime.strptime(x, \"%y-%b-%d\"))\n",
        "print(birthday)"
      ],
      "metadata": {
        "colab": {
          "base_uri": "https://localhost:8080/"
        },
        "id": "9VH-fcOFsDtp",
        "outputId": "87e2834d-eeea-46b0-a22b-f07ca33fe7e5"
      },
      "execution_count": null,
      "outputs": [
        {
          "output_type": "stream",
          "name": "stdout",
          "text": [
            "0      1971-10-17\n",
            "1      2021-03-12\n",
            "2      2067-10-26\n",
            "3      2005-02-21\n",
            "4      2035-09-28\n",
            "          ...    \n",
            "9949   2031-11-23\n",
            "9950   2009-08-14\n",
            "9951   2005-06-16\n",
            "9952   2062-12-10\n",
            "9953   2062-07-03\n",
            "Name: birth_date, Length: 9954, dtype: datetime64[ns]\n"
          ]
        }
      ]
    },
    {
      "cell_type": "code",
      "source": [
        "bdate= pd.Series(data3uba[\"birth_date\"], dtype=\"string\")\n",
        "print(bdate)"
      ],
      "metadata": {
        "colab": {
          "base_uri": "https://localhost:8080/"
        },
        "id": "eMD_HBjRnu7T",
        "outputId": "3d98baf7-a486-497e-b58e-17b470597c05"
      },
      "execution_count": null,
      "outputs": [
        {
          "output_type": "stream",
          "name": "stdout",
          "text": [
            "0       71-Oct-17\n",
            "1       21-Mar-12\n",
            "2       67-Oct-26\n",
            "3       05-Feb-21\n",
            "4       35-Sep-28\n",
            "          ...    \n",
            "9949    31-Nov-23\n",
            "9950    09-Aug-14\n",
            "9951    05-Jun-16\n",
            "9952    62-Dec-10\n",
            "9953    62-Jul-03\n",
            "Name: birth_date, Length: 9954, dtype: string\n"
          ]
        }
      ]
    },
    {
      "cell_type": "code",
      "source": [
        "bdate = bdate.apply(lambda x: datetime.strptime(x, \"%y-%b-%d\"))\n",
        "print(bdate)"
      ],
      "metadata": {
        "colab": {
          "base_uri": "https://localhost:8080/"
        },
        "id": "eq8Pp4Cwoo_w",
        "outputId": "371a0135-74f6-4e63-c664-99d82f42458f"
      },
      "execution_count": null,
      "outputs": [
        {
          "output_type": "stream",
          "name": "stdout",
          "text": [
            "0      1971-10-17\n",
            "1      2021-03-12\n",
            "2      2067-10-26\n",
            "3      2005-02-21\n",
            "4      2035-09-28\n",
            "          ...    \n",
            "9949   2031-11-23\n",
            "9950   2009-08-14\n",
            "9951   2005-06-16\n",
            "9952   2062-12-10\n",
            "9953   2062-07-03\n",
            "Name: birth_date, Length: 9954, dtype: datetime64[ns]\n"
          ]
        }
      ]
    },
    {
      "cell_type": "code",
      "source": [
        "bdate18 = bdate.loc[bdate < age18]\n",
        "print(bdate18)"
      ],
      "metadata": {
        "colab": {
          "base_uri": "https://localhost:8080/"
        },
        "id": "__FNDLE4pb_B",
        "outputId": "392cdc5c-7620-4258-d922-e031b7f849eb"
      },
      "execution_count": null,
      "outputs": [
        {
          "output_type": "stream",
          "name": "stdout",
          "text": [
            "0      1971-10-17\n",
            "6      2004-06-27\n",
            "9      1989-03-05\n",
            "13     1994-12-13\n",
            "14     2000-03-22\n",
            "          ...    \n",
            "9922   1986-08-24\n",
            "9925   1979-03-27\n",
            "9931   1997-12-31\n",
            "9942   1991-07-20\n",
            "9946   1983-05-06\n",
            "Name: birth_date, Length: 3121, dtype: datetime64[ns]\n"
          ]
        }
      ]
    },
    {
      "cell_type": "code",
      "source": [
        "age = bdate.apply(lambda x: today.year - x.year - ((today.month, today.day) < (x.month, x.day)))\n",
        "print(age)"
      ],
      "metadata": {
        "colab": {
          "base_uri": "https://localhost:8080/"
        },
        "id": "-xB4WVrWJxpH",
        "outputId": "64613d20-98cf-499a-d114-75dbf75f0cd6"
      },
      "execution_count": null,
      "outputs": [
        {
          "output_type": "stream",
          "name": "stdout",
          "text": [
            "0       51\n",
            "1        1\n",
            "2      -45\n",
            "3       17\n",
            "4      -13\n",
            "        ..\n",
            "9949   -10\n",
            "9950    13\n",
            "9951    17\n",
            "9952   -41\n",
            "9953   -40\n",
            "Name: birth_date, Length: 9954, dtype: int64\n"
          ]
        }
      ]
    },
    {
      "cell_type": "code",
      "source": [
        "age18= age.loc[age >=18]\n",
        "age18"
      ],
      "metadata": {
        "colab": {
          "base_uri": "https://localhost:8080/"
        },
        "id": "IrUXM_sxKeBc",
        "outputId": "2e3e0b2f-131c-40e1-fb8c-50b810b14cc0"
      },
      "execution_count": null,
      "outputs": [
        {
          "output_type": "execute_result",
          "data": {
            "text/plain": [
              "0       51\n",
              "6       18\n",
              "9       33\n",
              "13      27\n",
              "14      22\n",
              "        ..\n",
              "9922    36\n",
              "9925    43\n",
              "9931    24\n",
              "9942    31\n",
              "9946    39\n",
              "Name: birth_date, Length: 3121, dtype: int64"
            ]
          },
          "metadata": {},
          "execution_count": 40
        }
      ]
    },
    {
      "cell_type": "markdown",
      "source": [
        "Quedan cerca de 6000 inscriptos fuera del dataset al elegir mayores de 18, probablemente por errores de ingreso de datos\n"
      ],
      "metadata": {
        "id": "o7g8xL_NZeP2"
      }
    },
    {
      "cell_type": "code",
      "metadata": {
        "id": "BA-HuF_xthrk",
        "colab": {
          "base_uri": "https://localhost:8080/"
        },
        "outputId": "189c34af-ad35-4553-803b-1c7c072547c7"
      },
      "source": [
        "age18.mean()\n"
      ],
      "execution_count": null,
      "outputs": [
        {
          "output_type": "execute_result",
          "data": {
            "text/plain": [
              "35.12816404998398"
            ]
          },
          "metadata": {},
          "execution_count": 41
        }
      ]
    },
    {
      "cell_type": "code",
      "metadata": {
        "id": "92zvD2MNt1sH",
        "colab": {
          "base_uri": "https://localhost:8080/"
        },
        "outputId": "100dda88-2325-483f-ad5c-794c7a993f4e"
      },
      "source": [
        "age18.max()"
      ],
      "execution_count": null,
      "outputs": [
        {
          "output_type": "execute_result",
          "data": {
            "text/plain": [
              "53"
            ]
          },
          "metadata": {},
          "execution_count": 42
        }
      ]
    },
    {
      "cell_type": "code",
      "source": [
        "age18.min()"
      ],
      "metadata": {
        "colab": {
          "base_uri": "https://localhost:8080/"
        },
        "id": "i3-KC_F3hzZH",
        "outputId": "97572a6a-83d8-4e8f-c6cf-abac4735770c"
      },
      "execution_count": null,
      "outputs": [
        {
          "output_type": "execute_result",
          "data": {
            "text/plain": [
              "18"
            ]
          },
          "metadata": {},
          "execution_count": 44
        }
      ]
    },
    {
      "cell_type": "code",
      "metadata": {
        "id": "0drxxapIt5Sg",
        "colab": {
          "base_uri": "https://localhost:8080/"
        },
        "outputId": "1454fb2c-0f99-4527-f432-c5f4eef87cd7"
      },
      "source": [
        "age18.std()"
      ],
      "execution_count": null,
      "outputs": [
        {
          "output_type": "execute_result",
          "data": {
            "text/plain": [
              "10.4347596875626"
            ]
          },
          "metadata": {},
          "execution_count": 45
        }
      ]
    },
    {
      "cell_type": "code",
      "source": [
        "data3uba['age']=age\n",
        "data3uba.head()"
      ],
      "metadata": {
        "colab": {
          "base_uri": "https://localhost:8080/",
          "height": 337
        },
        "id": "md_1Fs7siNbP",
        "outputId": "12093ad2-e00c-4705-b1f5-868d17462da1"
      },
      "execution_count": null,
      "outputs": [
        {
          "output_type": "execute_result",
          "data": {
            "text/plain": [
              "       last_name gender                                            address  \\\n",
              "0    daniel-haas      m       228-robert-branch\\nnorth-joanville,-ms-67810   \n",
              "1    amy-wallace      f  4440-edward-junctions-apt.-088\\neast-brian,-ar...   \n",
              "2      jody-kirk      f           3452-adam-mountains\\nkingburgh,-mn-04132   \n",
              "3  angela-hudson      f            8672-rasmussen-way\\nleviville,-id-98957   \n",
              "4   ashley-brown      f                   psc-6274,-box-1394\\napo-ap-22919   \n",
              "\n",
              "                       emails birth_date                 universities  \\\n",
              "0          kwoods@hotmail.com  71-Oct-17  universidad-de-buenos-aires   \n",
              "1       brookejones@yahoo.com  21-Mar-12  universidad-de-buenos-aires   \n",
              "2      tinaturner@hotmail.com  67-Oct-26  universidad-de-buenos-aires   \n",
              "3        cpatterson@yahoo.com  05-Feb-21  universidad-de-buenos-aires   \n",
              "4  turnerveronica@hotmail.com  35-Sep-28  universidad-de-buenos-aires   \n",
              "\n",
              "  inscription_date                                   careers zipcodes  age  \n",
              "0        19-Oct-26                   técnico-para-bioterios-     3192   51  \n",
              "1        20-Sep-24                                 actuario-     8431    1  \n",
              "2        21-Jul-14                                 actuario-     3425  -45  \n",
              "3        20-Sep-27  licenciatura-en-gestión-de-agroalimentos     3151   17  \n",
              "4        20-Feb-01                 ingeniería-en-informática     6706  -13  "
            ],
            "text/html": [
              "\n",
              "  <div id=\"df-50260d3f-a83a-41b2-a8e3-add6b423edf1\">\n",
              "    <div class=\"colab-df-container\">\n",
              "      <div>\n",
              "<style scoped>\n",
              "    .dataframe tbody tr th:only-of-type {\n",
              "        vertical-align: middle;\n",
              "    }\n",
              "\n",
              "    .dataframe tbody tr th {\n",
              "        vertical-align: top;\n",
              "    }\n",
              "\n",
              "    .dataframe thead th {\n",
              "        text-align: right;\n",
              "    }\n",
              "</style>\n",
              "<table border=\"1\" class=\"dataframe\">\n",
              "  <thead>\n",
              "    <tr style=\"text-align: right;\">\n",
              "      <th></th>\n",
              "      <th>last_name</th>\n",
              "      <th>gender</th>\n",
              "      <th>address</th>\n",
              "      <th>emails</th>\n",
              "      <th>birth_date</th>\n",
              "      <th>universities</th>\n",
              "      <th>inscription_date</th>\n",
              "      <th>careers</th>\n",
              "      <th>zipcodes</th>\n",
              "      <th>age</th>\n",
              "    </tr>\n",
              "  </thead>\n",
              "  <tbody>\n",
              "    <tr>\n",
              "      <th>0</th>\n",
              "      <td>daniel-haas</td>\n",
              "      <td>m</td>\n",
              "      <td>228-robert-branch\\nnorth-joanville,-ms-67810</td>\n",
              "      <td>kwoods@hotmail.com</td>\n",
              "      <td>71-Oct-17</td>\n",
              "      <td>universidad-de-buenos-aires</td>\n",
              "      <td>19-Oct-26</td>\n",
              "      <td>técnico-para-bioterios-</td>\n",
              "      <td>3192</td>\n",
              "      <td>51</td>\n",
              "    </tr>\n",
              "    <tr>\n",
              "      <th>1</th>\n",
              "      <td>amy-wallace</td>\n",
              "      <td>f</td>\n",
              "      <td>4440-edward-junctions-apt.-088\\neast-brian,-ar...</td>\n",
              "      <td>brookejones@yahoo.com</td>\n",
              "      <td>21-Mar-12</td>\n",
              "      <td>universidad-de-buenos-aires</td>\n",
              "      <td>20-Sep-24</td>\n",
              "      <td>actuario-</td>\n",
              "      <td>8431</td>\n",
              "      <td>1</td>\n",
              "    </tr>\n",
              "    <tr>\n",
              "      <th>2</th>\n",
              "      <td>jody-kirk</td>\n",
              "      <td>f</td>\n",
              "      <td>3452-adam-mountains\\nkingburgh,-mn-04132</td>\n",
              "      <td>tinaturner@hotmail.com</td>\n",
              "      <td>67-Oct-26</td>\n",
              "      <td>universidad-de-buenos-aires</td>\n",
              "      <td>21-Jul-14</td>\n",
              "      <td>actuario-</td>\n",
              "      <td>3425</td>\n",
              "      <td>-45</td>\n",
              "    </tr>\n",
              "    <tr>\n",
              "      <th>3</th>\n",
              "      <td>angela-hudson</td>\n",
              "      <td>f</td>\n",
              "      <td>8672-rasmussen-way\\nleviville,-id-98957</td>\n",
              "      <td>cpatterson@yahoo.com</td>\n",
              "      <td>05-Feb-21</td>\n",
              "      <td>universidad-de-buenos-aires</td>\n",
              "      <td>20-Sep-27</td>\n",
              "      <td>licenciatura-en-gestión-de-agroalimentos</td>\n",
              "      <td>3151</td>\n",
              "      <td>17</td>\n",
              "    </tr>\n",
              "    <tr>\n",
              "      <th>4</th>\n",
              "      <td>ashley-brown</td>\n",
              "      <td>f</td>\n",
              "      <td>psc-6274,-box-1394\\napo-ap-22919</td>\n",
              "      <td>turnerveronica@hotmail.com</td>\n",
              "      <td>35-Sep-28</td>\n",
              "      <td>universidad-de-buenos-aires</td>\n",
              "      <td>20-Feb-01</td>\n",
              "      <td>ingeniería-en-informática</td>\n",
              "      <td>6706</td>\n",
              "      <td>-13</td>\n",
              "    </tr>\n",
              "  </tbody>\n",
              "</table>\n",
              "</div>\n",
              "      <button class=\"colab-df-convert\" onclick=\"convertToInteractive('df-50260d3f-a83a-41b2-a8e3-add6b423edf1')\"\n",
              "              title=\"Convert this dataframe to an interactive table.\"\n",
              "              style=\"display:none;\">\n",
              "        \n",
              "  <svg xmlns=\"http://www.w3.org/2000/svg\" height=\"24px\"viewBox=\"0 0 24 24\"\n",
              "       width=\"24px\">\n",
              "    <path d=\"M0 0h24v24H0V0z\" fill=\"none\"/>\n",
              "    <path d=\"M18.56 5.44l.94 2.06.94-2.06 2.06-.94-2.06-.94-.94-2.06-.94 2.06-2.06.94zm-11 1L8.5 8.5l.94-2.06 2.06-.94-2.06-.94L8.5 2.5l-.94 2.06-2.06.94zm10 10l.94 2.06.94-2.06 2.06-.94-2.06-.94-.94-2.06-.94 2.06-2.06.94z\"/><path d=\"M17.41 7.96l-1.37-1.37c-.4-.4-.92-.59-1.43-.59-.52 0-1.04.2-1.43.59L10.3 9.45l-7.72 7.72c-.78.78-.78 2.05 0 2.83L4 21.41c.39.39.9.59 1.41.59.51 0 1.02-.2 1.41-.59l7.78-7.78 2.81-2.81c.8-.78.8-2.07 0-2.86zM5.41 20L4 18.59l7.72-7.72 1.47 1.35L5.41 20z\"/>\n",
              "  </svg>\n",
              "      </button>\n",
              "      \n",
              "  <style>\n",
              "    .colab-df-container {\n",
              "      display:flex;\n",
              "      flex-wrap:wrap;\n",
              "      gap: 12px;\n",
              "    }\n",
              "\n",
              "    .colab-df-convert {\n",
              "      background-color: #E8F0FE;\n",
              "      border: none;\n",
              "      border-radius: 50%;\n",
              "      cursor: pointer;\n",
              "      display: none;\n",
              "      fill: #1967D2;\n",
              "      height: 32px;\n",
              "      padding: 0 0 0 0;\n",
              "      width: 32px;\n",
              "    }\n",
              "\n",
              "    .colab-df-convert:hover {\n",
              "      background-color: #E2EBFA;\n",
              "      box-shadow: 0px 1px 2px rgba(60, 64, 67, 0.3), 0px 1px 3px 1px rgba(60, 64, 67, 0.15);\n",
              "      fill: #174EA6;\n",
              "    }\n",
              "\n",
              "    [theme=dark] .colab-df-convert {\n",
              "      background-color: #3B4455;\n",
              "      fill: #D2E3FC;\n",
              "    }\n",
              "\n",
              "    [theme=dark] .colab-df-convert:hover {\n",
              "      background-color: #434B5C;\n",
              "      box-shadow: 0px 1px 3px 1px rgba(0, 0, 0, 0.15);\n",
              "      filter: drop-shadow(0px 1px 2px rgba(0, 0, 0, 0.3));\n",
              "      fill: #FFFFFF;\n",
              "    }\n",
              "  </style>\n",
              "\n",
              "      <script>\n",
              "        const buttonEl =\n",
              "          document.querySelector('#df-50260d3f-a83a-41b2-a8e3-add6b423edf1 button.colab-df-convert');\n",
              "        buttonEl.style.display =\n",
              "          google.colab.kernel.accessAllowed ? 'block' : 'none';\n",
              "\n",
              "        async function convertToInteractive(key) {\n",
              "          const element = document.querySelector('#df-50260d3f-a83a-41b2-a8e3-add6b423edf1');\n",
              "          const dataTable =\n",
              "            await google.colab.kernel.invokeFunction('convertToInteractive',\n",
              "                                                     [key], {});\n",
              "          if (!dataTable) return;\n",
              "\n",
              "          const docLinkHtml = 'Like what you see? Visit the ' +\n",
              "            '<a target=\"_blank\" href=https://colab.research.google.com/notebooks/data_table.ipynb>data table notebook</a>'\n",
              "            + ' to learn more about interactive tables.';\n",
              "          element.innerHTML = '';\n",
              "          dataTable['output_type'] = 'display_data';\n",
              "          await google.colab.output.renderOutput(dataTable, element);\n",
              "          const docLink = document.createElement('div');\n",
              "          docLink.innerHTML = docLinkHtml;\n",
              "          element.appendChild(docLink);\n",
              "        }\n",
              "      </script>\n",
              "    </div>\n",
              "  </div>\n",
              "  "
            ]
          },
          "metadata": {},
          "execution_count": 49
        }
      ]
    },
    {
      "cell_type": "code",
      "metadata": {
        "colab": {
          "base_uri": "https://localhost:8080/",
          "height": 337
        },
        "id": "5e4rqmuHt_sU",
        "outputId": "7fbc45c3-3d0a-40f7-a17e-9ebfdad04a66"
      },
      "source": [
        "data3uba.columns = ['last_name', 'gender', 'address',\t'emails', 'birth_date', 'universities', 'inscription_date', 'careers', 'zipcodes','age']\n",
        "data3uba.head()"
      ],
      "execution_count": null,
      "outputs": [
        {
          "output_type": "execute_result",
          "data": {
            "text/plain": [
              "       last_name gender                                            address  \\\n",
              "0    daniel-haas      m       228-robert-branch\\nnorth-joanville,-ms-67810   \n",
              "1    amy-wallace      f  4440-edward-junctions-apt.-088\\neast-brian,-ar...   \n",
              "2      jody-kirk      f           3452-adam-mountains\\nkingburgh,-mn-04132   \n",
              "3  angela-hudson      f            8672-rasmussen-way\\nleviville,-id-98957   \n",
              "4   ashley-brown      f                   psc-6274,-box-1394\\napo-ap-22919   \n",
              "\n",
              "                       emails birth_date                 universities  \\\n",
              "0          kwoods@hotmail.com  71-Oct-17  universidad-de-buenos-aires   \n",
              "1       brookejones@yahoo.com  21-Mar-12  universidad-de-buenos-aires   \n",
              "2      tinaturner@hotmail.com  67-Oct-26  universidad-de-buenos-aires   \n",
              "3        cpatterson@yahoo.com  05-Feb-21  universidad-de-buenos-aires   \n",
              "4  turnerveronica@hotmail.com  35-Sep-28  universidad-de-buenos-aires   \n",
              "\n",
              "  inscription_date                                   careers zipcodes  age  \n",
              "0        19-Oct-26                   técnico-para-bioterios-     3192   51  \n",
              "1        20-Sep-24                                 actuario-     8431    1  \n",
              "2        21-Jul-14                                 actuario-     3425  -45  \n",
              "3        20-Sep-27  licenciatura-en-gestión-de-agroalimentos     3151   17  \n",
              "4        20-Feb-01                 ingeniería-en-informática     6706  -13  "
            ],
            "text/html": [
              "\n",
              "  <div id=\"df-22425290-5408-4359-8323-b0161a016d80\">\n",
              "    <div class=\"colab-df-container\">\n",
              "      <div>\n",
              "<style scoped>\n",
              "    .dataframe tbody tr th:only-of-type {\n",
              "        vertical-align: middle;\n",
              "    }\n",
              "\n",
              "    .dataframe tbody tr th {\n",
              "        vertical-align: top;\n",
              "    }\n",
              "\n",
              "    .dataframe thead th {\n",
              "        text-align: right;\n",
              "    }\n",
              "</style>\n",
              "<table border=\"1\" class=\"dataframe\">\n",
              "  <thead>\n",
              "    <tr style=\"text-align: right;\">\n",
              "      <th></th>\n",
              "      <th>last_name</th>\n",
              "      <th>gender</th>\n",
              "      <th>address</th>\n",
              "      <th>emails</th>\n",
              "      <th>birth_date</th>\n",
              "      <th>universities</th>\n",
              "      <th>inscription_date</th>\n",
              "      <th>careers</th>\n",
              "      <th>zipcodes</th>\n",
              "      <th>age</th>\n",
              "    </tr>\n",
              "  </thead>\n",
              "  <tbody>\n",
              "    <tr>\n",
              "      <th>0</th>\n",
              "      <td>daniel-haas</td>\n",
              "      <td>m</td>\n",
              "      <td>228-robert-branch\\nnorth-joanville,-ms-67810</td>\n",
              "      <td>kwoods@hotmail.com</td>\n",
              "      <td>71-Oct-17</td>\n",
              "      <td>universidad-de-buenos-aires</td>\n",
              "      <td>19-Oct-26</td>\n",
              "      <td>técnico-para-bioterios-</td>\n",
              "      <td>3192</td>\n",
              "      <td>51</td>\n",
              "    </tr>\n",
              "    <tr>\n",
              "      <th>1</th>\n",
              "      <td>amy-wallace</td>\n",
              "      <td>f</td>\n",
              "      <td>4440-edward-junctions-apt.-088\\neast-brian,-ar...</td>\n",
              "      <td>brookejones@yahoo.com</td>\n",
              "      <td>21-Mar-12</td>\n",
              "      <td>universidad-de-buenos-aires</td>\n",
              "      <td>20-Sep-24</td>\n",
              "      <td>actuario-</td>\n",
              "      <td>8431</td>\n",
              "      <td>1</td>\n",
              "    </tr>\n",
              "    <tr>\n",
              "      <th>2</th>\n",
              "      <td>jody-kirk</td>\n",
              "      <td>f</td>\n",
              "      <td>3452-adam-mountains\\nkingburgh,-mn-04132</td>\n",
              "      <td>tinaturner@hotmail.com</td>\n",
              "      <td>67-Oct-26</td>\n",
              "      <td>universidad-de-buenos-aires</td>\n",
              "      <td>21-Jul-14</td>\n",
              "      <td>actuario-</td>\n",
              "      <td>3425</td>\n",
              "      <td>-45</td>\n",
              "    </tr>\n",
              "    <tr>\n",
              "      <th>3</th>\n",
              "      <td>angela-hudson</td>\n",
              "      <td>f</td>\n",
              "      <td>8672-rasmussen-way\\nleviville,-id-98957</td>\n",
              "      <td>cpatterson@yahoo.com</td>\n",
              "      <td>05-Feb-21</td>\n",
              "      <td>universidad-de-buenos-aires</td>\n",
              "      <td>20-Sep-27</td>\n",
              "      <td>licenciatura-en-gestión-de-agroalimentos</td>\n",
              "      <td>3151</td>\n",
              "      <td>17</td>\n",
              "    </tr>\n",
              "    <tr>\n",
              "      <th>4</th>\n",
              "      <td>ashley-brown</td>\n",
              "      <td>f</td>\n",
              "      <td>psc-6274,-box-1394\\napo-ap-22919</td>\n",
              "      <td>turnerveronica@hotmail.com</td>\n",
              "      <td>35-Sep-28</td>\n",
              "      <td>universidad-de-buenos-aires</td>\n",
              "      <td>20-Feb-01</td>\n",
              "      <td>ingeniería-en-informática</td>\n",
              "      <td>6706</td>\n",
              "      <td>-13</td>\n",
              "    </tr>\n",
              "  </tbody>\n",
              "</table>\n",
              "</div>\n",
              "      <button class=\"colab-df-convert\" onclick=\"convertToInteractive('df-22425290-5408-4359-8323-b0161a016d80')\"\n",
              "              title=\"Convert this dataframe to an interactive table.\"\n",
              "              style=\"display:none;\">\n",
              "        \n",
              "  <svg xmlns=\"http://www.w3.org/2000/svg\" height=\"24px\"viewBox=\"0 0 24 24\"\n",
              "       width=\"24px\">\n",
              "    <path d=\"M0 0h24v24H0V0z\" fill=\"none\"/>\n",
              "    <path d=\"M18.56 5.44l.94 2.06.94-2.06 2.06-.94-2.06-.94-.94-2.06-.94 2.06-2.06.94zm-11 1L8.5 8.5l.94-2.06 2.06-.94-2.06-.94L8.5 2.5l-.94 2.06-2.06.94zm10 10l.94 2.06.94-2.06 2.06-.94-2.06-.94-.94-2.06-.94 2.06-2.06.94z\"/><path d=\"M17.41 7.96l-1.37-1.37c-.4-.4-.92-.59-1.43-.59-.52 0-1.04.2-1.43.59L10.3 9.45l-7.72 7.72c-.78.78-.78 2.05 0 2.83L4 21.41c.39.39.9.59 1.41.59.51 0 1.02-.2 1.41-.59l7.78-7.78 2.81-2.81c.8-.78.8-2.07 0-2.86zM5.41 20L4 18.59l7.72-7.72 1.47 1.35L5.41 20z\"/>\n",
              "  </svg>\n",
              "      </button>\n",
              "      \n",
              "  <style>\n",
              "    .colab-df-container {\n",
              "      display:flex;\n",
              "      flex-wrap:wrap;\n",
              "      gap: 12px;\n",
              "    }\n",
              "\n",
              "    .colab-df-convert {\n",
              "      background-color: #E8F0FE;\n",
              "      border: none;\n",
              "      border-radius: 50%;\n",
              "      cursor: pointer;\n",
              "      display: none;\n",
              "      fill: #1967D2;\n",
              "      height: 32px;\n",
              "      padding: 0 0 0 0;\n",
              "      width: 32px;\n",
              "    }\n",
              "\n",
              "    .colab-df-convert:hover {\n",
              "      background-color: #E2EBFA;\n",
              "      box-shadow: 0px 1px 2px rgba(60, 64, 67, 0.3), 0px 1px 3px 1px rgba(60, 64, 67, 0.15);\n",
              "      fill: #174EA6;\n",
              "    }\n",
              "\n",
              "    [theme=dark] .colab-df-convert {\n",
              "      background-color: #3B4455;\n",
              "      fill: #D2E3FC;\n",
              "    }\n",
              "\n",
              "    [theme=dark] .colab-df-convert:hover {\n",
              "      background-color: #434B5C;\n",
              "      box-shadow: 0px 1px 3px 1px rgba(0, 0, 0, 0.15);\n",
              "      filter: drop-shadow(0px 1px 2px rgba(0, 0, 0, 0.3));\n",
              "      fill: #FFFFFF;\n",
              "    }\n",
              "  </style>\n",
              "\n",
              "      <script>\n",
              "        const buttonEl =\n",
              "          document.querySelector('#df-22425290-5408-4359-8323-b0161a016d80 button.colab-df-convert');\n",
              "        buttonEl.style.display =\n",
              "          google.colab.kernel.accessAllowed ? 'block' : 'none';\n",
              "\n",
              "        async function convertToInteractive(key) {\n",
              "          const element = document.querySelector('#df-22425290-5408-4359-8323-b0161a016d80');\n",
              "          const dataTable =\n",
              "            await google.colab.kernel.invokeFunction('convertToInteractive',\n",
              "                                                     [key], {});\n",
              "          if (!dataTable) return;\n",
              "\n",
              "          const docLinkHtml = 'Like what you see? Visit the ' +\n",
              "            '<a target=\"_blank\" href=https://colab.research.google.com/notebooks/data_table.ipynb>data table notebook</a>'\n",
              "            + ' to learn more about interactive tables.';\n",
              "          element.innerHTML = '';\n",
              "          dataTable['output_type'] = 'display_data';\n",
              "          await google.colab.output.renderOutput(dataTable, element);\n",
              "          const docLink = document.createElement('div');\n",
              "          docLink.innerHTML = docLinkHtml;\n",
              "          element.appendChild(docLink);\n",
              "        }\n",
              "      </script>\n",
              "    </div>\n",
              "  </div>\n",
              "  "
            ]
          },
          "metadata": {},
          "execution_count": 50
        }
      ]
    },
    {
      "cell_type": "code",
      "source": [
        "#data3uba.to_csv('3UBA_select.csv')\n"
      ],
      "metadata": {
        "id": "p1OeQmEAy0zd"
      },
      "execution_count": null,
      "outputs": []
    },
    {
      "cell_type": "code",
      "source": [
        "#data3uba.to_csv('3UBA_process.txt', sep=\"\\t\", index=None)"
      ],
      "metadata": {
        "id": "GZwPAkGKi7Nw"
      },
      "execution_count": null,
      "outputs": []
    },
    {
      "cell_type": "markdown",
      "source": [
        "Ya realizamos la manipulacion de los datos.\n",
        "\n",
        "**Graficos de variables en estudio.**"
      ],
      "metadata": {
        "id": "RAkrVVRu9PED"
      }
    },
    {
      "cell_type": "code",
      "source": [
        "\n",
        "import matplotlib.pyplot as plt\n"
      ],
      "metadata": {
        "id": "4DP_zyRo9fGJ"
      },
      "execution_count": null,
      "outputs": []
    },
    {
      "cell_type": "code",
      "source": [
        "datasubaccg = data3uba.gender.value_counts()\n",
        "datasubaccg"
      ],
      "metadata": {
        "colab": {
          "base_uri": "https://localhost:8080/"
        },
        "id": "pno4XCtfysgs",
        "outputId": "c666b6fb-8508-4bbf-dc0b-1066b5ca9711"
      },
      "execution_count": null,
      "outputs": [
        {
          "output_type": "execute_result",
          "data": {
            "text/plain": [
              "m    5016\n",
              "f    4938\n",
              "Name: gender, dtype: int64"
            ]
          },
          "metadata": {},
          "execution_count": 55
        }
      ]
    },
    {
      "cell_type": "code",
      "source": [
        "data3uba.gender.value_counts(normalize=True)*100\n"
      ],
      "metadata": {
        "id": "QSayGKJENGse",
        "colab": {
          "base_uri": "https://localhost:8080/"
        },
        "outputId": "b0f30de2-1fce-4dc3-b3da-f9f3b67832a6"
      },
      "execution_count": null,
      "outputs": [
        {
          "output_type": "execute_result",
          "data": {
            "text/plain": [
              "m    50.391802\n",
              "f    49.608198\n",
              "Name: gender, dtype: float64"
            ]
          },
          "metadata": {},
          "execution_count": 59
        }
      ]
    },
    {
      "cell_type": "code",
      "source": [
        "gen = pd.DataFrame(data3uba.gender.value_counts().reset_index().values, columns=[\"m\", \"f\"])\n",
        "genindex = gen.sort_index(axis = 0, ascending=True)\n",
        "genindex"
      ],
      "metadata": {
        "id": "G3l2emqLMxUf",
        "colab": {
          "base_uri": "https://localhost:8080/",
          "height": 112
        },
        "outputId": "f8ffc4c9-21bd-4d48-8fbb-7dfec691309d"
      },
      "execution_count": null,
      "outputs": [
        {
          "output_type": "execute_result",
          "data": {
            "text/plain": [
              "   m     f\n",
              "0  m  5016\n",
              "1  f  4938"
            ],
            "text/html": [
              "\n",
              "  <div id=\"df-c4b5d1a8-4468-4516-86ef-963b6533bec0\">\n",
              "    <div class=\"colab-df-container\">\n",
              "      <div>\n",
              "<style scoped>\n",
              "    .dataframe tbody tr th:only-of-type {\n",
              "        vertical-align: middle;\n",
              "    }\n",
              "\n",
              "    .dataframe tbody tr th {\n",
              "        vertical-align: top;\n",
              "    }\n",
              "\n",
              "    .dataframe thead th {\n",
              "        text-align: right;\n",
              "    }\n",
              "</style>\n",
              "<table border=\"1\" class=\"dataframe\">\n",
              "  <thead>\n",
              "    <tr style=\"text-align: right;\">\n",
              "      <th></th>\n",
              "      <th>m</th>\n",
              "      <th>f</th>\n",
              "    </tr>\n",
              "  </thead>\n",
              "  <tbody>\n",
              "    <tr>\n",
              "      <th>0</th>\n",
              "      <td>m</td>\n",
              "      <td>5016</td>\n",
              "    </tr>\n",
              "    <tr>\n",
              "      <th>1</th>\n",
              "      <td>f</td>\n",
              "      <td>4938</td>\n",
              "    </tr>\n",
              "  </tbody>\n",
              "</table>\n",
              "</div>\n",
              "      <button class=\"colab-df-convert\" onclick=\"convertToInteractive('df-c4b5d1a8-4468-4516-86ef-963b6533bec0')\"\n",
              "              title=\"Convert this dataframe to an interactive table.\"\n",
              "              style=\"display:none;\">\n",
              "        \n",
              "  <svg xmlns=\"http://www.w3.org/2000/svg\" height=\"24px\"viewBox=\"0 0 24 24\"\n",
              "       width=\"24px\">\n",
              "    <path d=\"M0 0h24v24H0V0z\" fill=\"none\"/>\n",
              "    <path d=\"M18.56 5.44l.94 2.06.94-2.06 2.06-.94-2.06-.94-.94-2.06-.94 2.06-2.06.94zm-11 1L8.5 8.5l.94-2.06 2.06-.94-2.06-.94L8.5 2.5l-.94 2.06-2.06.94zm10 10l.94 2.06.94-2.06 2.06-.94-2.06-.94-.94-2.06-.94 2.06-2.06.94z\"/><path d=\"M17.41 7.96l-1.37-1.37c-.4-.4-.92-.59-1.43-.59-.52 0-1.04.2-1.43.59L10.3 9.45l-7.72 7.72c-.78.78-.78 2.05 0 2.83L4 21.41c.39.39.9.59 1.41.59.51 0 1.02-.2 1.41-.59l7.78-7.78 2.81-2.81c.8-.78.8-2.07 0-2.86zM5.41 20L4 18.59l7.72-7.72 1.47 1.35L5.41 20z\"/>\n",
              "  </svg>\n",
              "      </button>\n",
              "      \n",
              "  <style>\n",
              "    .colab-df-container {\n",
              "      display:flex;\n",
              "      flex-wrap:wrap;\n",
              "      gap: 12px;\n",
              "    }\n",
              "\n",
              "    .colab-df-convert {\n",
              "      background-color: #E8F0FE;\n",
              "      border: none;\n",
              "      border-radius: 50%;\n",
              "      cursor: pointer;\n",
              "      display: none;\n",
              "      fill: #1967D2;\n",
              "      height: 32px;\n",
              "      padding: 0 0 0 0;\n",
              "      width: 32px;\n",
              "    }\n",
              "\n",
              "    .colab-df-convert:hover {\n",
              "      background-color: #E2EBFA;\n",
              "      box-shadow: 0px 1px 2px rgba(60, 64, 67, 0.3), 0px 1px 3px 1px rgba(60, 64, 67, 0.15);\n",
              "      fill: #174EA6;\n",
              "    }\n",
              "\n",
              "    [theme=dark] .colab-df-convert {\n",
              "      background-color: #3B4455;\n",
              "      fill: #D2E3FC;\n",
              "    }\n",
              "\n",
              "    [theme=dark] .colab-df-convert:hover {\n",
              "      background-color: #434B5C;\n",
              "      box-shadow: 0px 1px 3px 1px rgba(0, 0, 0, 0.15);\n",
              "      filter: drop-shadow(0px 1px 2px rgba(0, 0, 0, 0.3));\n",
              "      fill: #FFFFFF;\n",
              "    }\n",
              "  </style>\n",
              "\n",
              "      <script>\n",
              "        const buttonEl =\n",
              "          document.querySelector('#df-c4b5d1a8-4468-4516-86ef-963b6533bec0 button.colab-df-convert');\n",
              "        buttonEl.style.display =\n",
              "          google.colab.kernel.accessAllowed ? 'block' : 'none';\n",
              "\n",
              "        async function convertToInteractive(key) {\n",
              "          const element = document.querySelector('#df-c4b5d1a8-4468-4516-86ef-963b6533bec0');\n",
              "          const dataTable =\n",
              "            await google.colab.kernel.invokeFunction('convertToInteractive',\n",
              "                                                     [key], {});\n",
              "          if (!dataTable) return;\n",
              "\n",
              "          const docLinkHtml = 'Like what you see? Visit the ' +\n",
              "            '<a target=\"_blank\" href=https://colab.research.google.com/notebooks/data_table.ipynb>data table notebook</a>'\n",
              "            + ' to learn more about interactive tables.';\n",
              "          element.innerHTML = '';\n",
              "          dataTable['output_type'] = 'display_data';\n",
              "          await google.colab.output.renderOutput(dataTable, element);\n",
              "          const docLink = document.createElement('div');\n",
              "          docLink.innerHTML = docLinkHtml;\n",
              "          element.appendChild(docLink);\n",
              "        }\n",
              "      </script>\n",
              "    </div>\n",
              "  </div>\n",
              "  "
            ]
          },
          "metadata": {},
          "execution_count": 60
        }
      ]
    },
    {
      "cell_type": "code",
      "source": [
        "df = pd.DataFrame({'UBA': [5016,4938]},\n",
        "                  index=['Hombres', 'Mujeres'])\n",
        "plot = df.plot.pie(y='UBA', figsize=(5, 5), colors ='gray', legend=False)\n"
      ],
      "metadata": {
        "colab": {
          "base_uri": "https://localhost:8080/",
          "height": 303
        },
        "id": "O2svEnfm_WeZ",
        "outputId": "daf2b045-2339-4482-d785-be6fa9d83702"
      },
      "execution_count": null,
      "outputs": [
        {
          "output_type": "display_data",
          "data": {
            "text/plain": [
              "<Figure size 360x360 with 1 Axes>"
            ],
            "image/png": "[encoded data removed]"
          },
          "metadata": {}
        }
      ]
    },
    {
      "cell_type": "code",
      "source": [
        "data3uba.careers.value_counts().plot(kind='barh', figsize=(7,13))\n",
        "plt.xlabel('Cantidad  de  inscriptos')\n",
        "plt.ylabel('Carrera')\n",
        "#plt.savefig('carrerasuba.jpg')"
      ],
      "metadata": {
        "colab": {
          "base_uri": "https://localhost:8080/",
          "height": 787
        },
        "id": "CLfTJNFAy0tL",
        "outputId": "248bba97-097d-463d-d39c-d62a3accc5d2"
      },
      "execution_count": null,
      "outputs": [
        {
          "output_type": "execute_result",
          "data": {
            "text/plain": [
              "Text(0, 0.5, 'Carrera')"
            ]
          },
          "metadata": {},
          "execution_count": 64
        },
        {
          "output_type": "display_data",
          "data": {
            "text/plain": [
              "<Figure size 504x936 with 1 Axes>"
            ],
            "image/png": "[encoded data removed]"
          },
          "metadata": {
            "needs_background": "light"
          }
        }
      ]
    },
    {
      "cell_type": "code",
      "source": [
        "zip = data3uba.zipcodes.value_counts()\n",
        "zip"
      ],
      "metadata": {
        "colab": {
          "base_uri": "https://localhost:8080/"
        },
        "id": "d9R5PvDU0FHS",
        "outputId": "3994f07c-82fe-4f10-a465-f931e03a56ea"
      },
      "execution_count": null,
      "outputs": [
        {
          "output_type": "execute_result",
          "data": {
            "text/plain": [
              "4166    18\n",
              "1888    17\n",
              "1605    16\n",
              "8303    16\n",
              "3151    15\n",
              "        ..\n",
              "3509     1\n",
              "5582     1\n",
              "2400     1\n",
              "7535     1\n",
              "5500     1\n",
              "Name: zipcodes, Length: 1515, dtype: int64"
            ]
          },
          "metadata": {},
          "execution_count": 74
        }
      ]
    },
    {
      "cell_type": "code",
      "source": [
        "zip.plot.hist()"
      ],
      "metadata": {
        "colab": {
          "base_uri": "https://localhost:8080/",
          "height": 285
        },
        "id": "jxuKG5C9lSGy",
        "outputId": "1ba40eed-8f05-472a-bac3-8a98227508e2"
      },
      "execution_count": null,
      "outputs": [
        {
          "output_type": "execute_result",
          "data": {
            "text/plain": [
              "<matplotlib.axes._subplots.AxesSubplot at 0x7ff906f7ab90>"
            ]
          },
          "metadata": {},
          "execution_count": 75
        },
        {
          "output_type": "display_data",
          "data": {
            "text/plain": [
              "<Figure size 432x288 with 1 Axes>"
            ],
            "image/png": "[encoded data removed]"
          },
          "metadata": {
            "needs_background": "light"
          }
        }
      ]
    },
    {
      "cell_type": "code",
      "metadata": {
        "colab": {
          "base_uri": "https://localhost:8080/"
        },
        "id": "HYX3iHjXw5Fn",
        "outputId": "84e93f7e-77fc-4901-a1a9-a458ebd957af"
      },
      "source": [
        "dfuba = data3uba.groupby('gender')['careers'].value_counts(normalize=True)*100\n",
        "dfuba"
      ],
      "execution_count": null,
      "outputs": [
        {
          "output_type": "execute_result",
          "data": {
            "text/plain": [
              "gender  careers                                  \n",
              "f       agronomía                                    3.503443\n",
              "        licenciatura-en-administración-              3.483192\n",
              "        licenciatura-en-producción-de-bioimagenes    3.462940\n",
              "        bioquímica                                   3.402187\n",
              "        licenciatura-en-ciencias-antropológicas      3.402187\n",
              "                                                       ...   \n",
              "m       licenciatura-en-administración-              2.751196\n",
              "        licenciatura-en-producción-de-bioimagenes    2.731260\n",
              "        diseño-industrial                            2.631579\n",
              "        ingeniería-mecánica                          2.571770\n",
              "        contador-público-                            2.531898\n",
              "Name: careers, Length: 66, dtype: float64"
            ]
          },
          "metadata": {},
          "execution_count": 77
        }
      ]
    },
    {
      "cell_type": "code",
      "source": [
        "dfubazip = data3uba.groupby('zipcodes')['careers'].value_counts().sort_values(ascending=False)\n",
        "dfubazip"
      ],
      "metadata": {
        "colab": {
          "base_uri": "https://localhost:8080/"
        },
        "id": "ARaFx3gG1l8p",
        "outputId": "e956670e-e2c3-47bd-e014-3f83f43052ec"
      },
      "execution_count": null,
      "outputs": [
        {
          "output_type": "execute_result",
          "data": {
            "text/plain": [
              "zipcodes  careers                                   \n",
              "6101      licenciatura-en-terapia-ocupacional           4\n",
              "1684      ingeniería-mecánica                           4\n",
              "1917      técnico-para-bioterios-                       4\n",
              "8206      diseño-industrial                             4\n",
              "5591      agronomía                                     3\n",
              "                                                       ..\n",
              "3315      licenciatura-en-terapia-ocupacional           1\n",
              "          licenciatura-en-ciencias-de-la-computación    1\n",
              "          licenciatura-en-artes                         1\n",
              "          licenciatura-en-administración-               1\n",
              "9421      medicina                                      1\n",
              "Name: careers, Length: 9055, dtype: int64"
            ]
          },
          "metadata": {},
          "execution_count": 78
        }
      ]
    },
    {
      "cell_type": "code",
      "source": [
        "dfuba = data3uba.groupby('gender')['zipcodes'].value_counts().sort_values(ascending=False)\n",
        "dfuba"
      ],
      "metadata": {
        "colab": {
          "base_uri": "https://localhost:8080/"
        },
        "id": "8VHT1Vv31lsL",
        "outputId": "9cf50a9d-34d2-44f6-cc51-2bd0bc9d4217"
      },
      "execution_count": null,
      "outputs": [
        {
          "output_type": "execute_result",
          "data": {
            "text/plain": [
              "gender  zipcodes\n",
              "f       1888        12\n",
              "m       4166        12\n",
              "f       3214        12\n",
              "m       8402        11\n",
              "        7212        10\n",
              "                    ..\n",
              "f       7011         1\n",
              "        6727         1\n",
              "        6703         1\n",
              "        6700         1\n",
              "m       9420         1\n",
              "Name: zipcodes, Length: 2925, dtype: int64"
            ]
          },
          "metadata": {},
          "execution_count": 79
        }
      ]
    },
    {
      "cell_type": "code",
      "source": [
        "dfubam = data3uba.loc[data3uba['gender']== 'm']\n",
        "dfubam.head()"
      ],
      "metadata": {
        "colab": {
          "base_uri": "https://localhost:8080/",
          "height": 337
        },
        "id": "L95kw5WG8sod",
        "outputId": "06147241-46b0-4cd2-e261-046aa6b75b6c"
      },
      "execution_count": null,
      "outputs": [
        {
          "output_type": "execute_result",
          "data": {
            "text/plain": [
              "          last_name gender                                            address  \\\n",
              "0       daniel-haas      m       228-robert-branch\\nnorth-joanville,-ms-67810   \n",
              "6   michael-coleman      m     2427-smith-wells-apt.-698\\ntinahaven,-ga-84731   \n",
              "8       joseph-shah      m  4804-joseph-freeway-suite-267\\ndanielmouth,-ny...   \n",
              "9      mark-huffman      m  80577-boyd-plains-suite-299\\neast-mauricefort,...   \n",
              "12   thomas-bernard      m  29761-kimberly-bypass-apt.-013\\nmckaychester,-...   \n",
              "\n",
              "                     emails birth_date                 universities  \\\n",
              "0        kwoods@hotmail.com  71-Oct-17  universidad-de-buenos-aires   \n",
              "6   evansjoshua@hotmail.com  04-Jun-27  universidad-de-buenos-aires   \n",
              "8    lynchjasmine@yahoo.com  43-Oct-25  universidad-de-buenos-aires   \n",
              "9    nealtravis@hotmail.com  89-Mar-05  universidad-de-buenos-aires   \n",
              "12         hbrown@gmail.com  18-Oct-03  universidad-de-buenos-aires   \n",
              "\n",
              "   inscription_date                                     careers zipcodes  age  \n",
              "0         19-Oct-26                     técnico-para-bioterios-     3192   51  \n",
              "6         21-May-04                                  bioquímica     1816   18  \n",
              "8         20-Jan-20  licenciatura-en-ciencias-de-la-computación     3563  -21  \n",
              "9         20-Feb-08                         ingeniería-mecánica     5319   33  \n",
              "12        19-Dec-24                 licenciatura-en-sociología-     1917    4  "
            ],
            "text/html": [
              "\n",
              "  <div id=\"df-cd09669f-c43f-42f0-8ccc-9a461f351642\">\n",
              "    <div class=\"colab-df-container\">\n",
              "      <div>\n",
              "<style scoped>\n",
              "    .dataframe tbody tr th:only-of-type {\n",
              "        vertical-align: middle;\n",
              "    }\n",
              "\n",
              "    .dataframe tbody tr th {\n",
              "        vertical-align: top;\n",
              "    }\n",
              "\n",
              "    .dataframe thead th {\n",
              "        text-align: right;\n",
              "    }\n",
              "</style>\n",
              "<table border=\"1\" class=\"dataframe\">\n",
              "  <thead>\n",
              "    <tr style=\"text-align: right;\">\n",
              "      <th></th>\n",
              "      <th>last_name</th>\n",
              "      <th>gender</th>\n",
              "      <th>address</th>\n",
              "      <th>emails</th>\n",
              "      <th>birth_date</th>\n",
              "      <th>universities</th>\n",
              "      <th>inscription_date</th>\n",
              "      <th>careers</th>\n",
              "      <th>zipcodes</th>\n",
              "      <th>age</th>\n",
              "    </tr>\n",
              "  </thead>\n",
              "  <tbody>\n",
              "    <tr>\n",
              "      <th>0</th>\n",
              "      <td>daniel-haas</td>\n",
              "      <td>m</td>\n",
              "      <td>228-robert-branch\\nnorth-joanville,-ms-67810</td>\n",
              "      <td>kwoods@hotmail.com</td>\n",
              "      <td>71-Oct-17</td>\n",
              "      <td>universidad-de-buenos-aires</td>\n",
              "      <td>19-Oct-26</td>\n",
              "      <td>técnico-para-bioterios-</td>\n",
              "      <td>3192</td>\n",
              "      <td>51</td>\n",
              "    </tr>\n",
              "    <tr>\n",
              "      <th>6</th>\n",
              "      <td>michael-coleman</td>\n",
              "      <td>m</td>\n",
              "      <td>2427-smith-wells-apt.-698\\ntinahaven,-ga-84731</td>\n",
              "      <td>evansjoshua@hotmail.com</td>\n",
              "      <td>04-Jun-27</td>\n",
              "      <td>universidad-de-buenos-aires</td>\n",
              "      <td>21-May-04</td>\n",
              "      <td>bioquímica</td>\n",
              "      <td>1816</td>\n",
              "      <td>18</td>\n",
              "    </tr>\n",
              "    <tr>\n",
              "      <th>8</th>\n",
              "      <td>joseph-shah</td>\n",
              "      <td>m</td>\n",
              "      <td>4804-joseph-freeway-suite-267\\ndanielmouth,-ny...</td>\n",
              "      <td>lynchjasmine@yahoo.com</td>\n",
              "      <td>43-Oct-25</td>\n",
              "      <td>universidad-de-buenos-aires</td>\n",
              "      <td>20-Jan-20</td>\n",
              "      <td>licenciatura-en-ciencias-de-la-computación</td>\n",
              "      <td>3563</td>\n",
              "      <td>-21</td>\n",
              "    </tr>\n",
              "    <tr>\n",
              "      <th>9</th>\n",
              "      <td>mark-huffman</td>\n",
              "      <td>m</td>\n",
              "      <td>80577-boyd-plains-suite-299\\neast-mauricefort,...</td>\n",
              "      <td>nealtravis@hotmail.com</td>\n",
              "      <td>89-Mar-05</td>\n",
              "      <td>universidad-de-buenos-aires</td>\n",
              "      <td>20-Feb-08</td>\n",
              "      <td>ingeniería-mecánica</td>\n",
              "      <td>5319</td>\n",
              "      <td>33</td>\n",
              "    </tr>\n",
              "    <tr>\n",
              "      <th>12</th>\n",
              "      <td>thomas-bernard</td>\n",
              "      <td>m</td>\n",
              "      <td>29761-kimberly-bypass-apt.-013\\nmckaychester,-...</td>\n",
              "      <td>hbrown@gmail.com</td>\n",
              "      <td>18-Oct-03</td>\n",
              "      <td>universidad-de-buenos-aires</td>\n",
              "      <td>19-Dec-24</td>\n",
              "      <td>licenciatura-en-sociología-</td>\n",
              "      <td>1917</td>\n",
              "      <td>4</td>\n",
              "    </tr>\n",
              "  </tbody>\n",
              "</table>\n",
              "</div>\n",
              "      <button class=\"colab-df-convert\" onclick=\"convertToInteractive('df-cd09669f-c43f-42f0-8ccc-9a461f351642')\"\n",
              "              title=\"Convert this dataframe to an interactive table.\"\n",
              "              style=\"display:none;\">\n",
              "        \n",
              "  <svg xmlns=\"http://www.w3.org/2000/svg\" height=\"24px\"viewBox=\"0 0 24 24\"\n",
              "       width=\"24px\">\n",
              "    <path d=\"M0 0h24v24H0V0z\" fill=\"none\"/>\n",
              "    <path d=\"M18.56 5.44l.94 2.06.94-2.06 2.06-.94-2.06-.94-.94-2.06-.94 2.06-2.06.94zm-11 1L8.5 8.5l.94-2.06 2.06-.94-2.06-.94L8.5 2.5l-.94 2.06-2.06.94zm10 10l.94 2.06.94-2.06 2.06-.94-2.06-.94-.94-2.06-.94 2.06-2.06.94z\"/><path d=\"M17.41 7.96l-1.37-1.37c-.4-.4-.92-.59-1.43-.59-.52 0-1.04.2-1.43.59L10.3 9.45l-7.72 7.72c-.78.78-.78 2.05 0 2.83L4 21.41c.39.39.9.59 1.41.59.51 0 1.02-.2 1.41-.59l7.78-7.78 2.81-2.81c.8-.78.8-2.07 0-2.86zM5.41 20L4 18.59l7.72-7.72 1.47 1.35L5.41 20z\"/>\n",
              "  </svg>\n",
              "      </button>\n",
              "      \n",
              "  <style>\n",
              "    .colab-df-container {\n",
              "      display:flex;\n",
              "      flex-wrap:wrap;\n",
              "      gap: 12px;\n",
              "    }\n",
              "\n",
              "    .colab-df-convert {\n",
              "      background-color: #E8F0FE;\n",
              "      border: none;\n",
              "      border-radius: 50%;\n",
              "      cursor: pointer;\n",
              "      display: none;\n",
              "      fill: #1967D2;\n",
              "      height: 32px;\n",
              "      padding: 0 0 0 0;\n",
              "      width: 32px;\n",
              "    }\n",
              "\n",
              "    .colab-df-convert:hover {\n",
              "      background-color: #E2EBFA;\n",
              "      box-shadow: 0px 1px 2px rgba(60, 64, 67, 0.3), 0px 1px 3px 1px rgba(60, 64, 67, 0.15);\n",
              "      fill: #174EA6;\n",
              "    }\n",
              "\n",
              "    [theme=dark] .colab-df-convert {\n",
              "      background-color: #3B4455;\n",
              "      fill: #D2E3FC;\n",
              "    }\n",
              "\n",
              "    [theme=dark] .colab-df-convert:hover {\n",
              "      background-color: #434B5C;\n",
              "      box-shadow: 0px 1px 3px 1px rgba(0, 0, 0, 0.15);\n",
              "      filter: drop-shadow(0px 1px 2px rgba(0, 0, 0, 0.3));\n",
              "      fill: #FFFFFF;\n",
              "    }\n",
              "  </style>\n",
              "\n",
              "      <script>\n",
              "        const buttonEl =\n",
              "          document.querySelector('#df-cd09669f-c43f-42f0-8ccc-9a461f351642 button.colab-df-convert');\n",
              "        buttonEl.style.display =\n",
              "          google.colab.kernel.accessAllowed ? 'block' : 'none';\n",
              "\n",
              "        async function convertToInteractive(key) {\n",
              "          const element = document.querySelector('#df-cd09669f-c43f-42f0-8ccc-9a461f351642');\n",
              "          const dataTable =\n",
              "            await google.colab.kernel.invokeFunction('convertToInteractive',\n",
              "                                                     [key], {});\n",
              "          if (!dataTable) return;\n",
              "\n",
              "          const docLinkHtml = 'Like what you see? Visit the ' +\n",
              "            '<a target=\"_blank\" href=https://colab.research.google.com/notebooks/data_table.ipynb>data table notebook</a>'\n",
              "            + ' to learn more about interactive tables.';\n",
              "          element.innerHTML = '';\n",
              "          dataTable['output_type'] = 'display_data';\n",
              "          await google.colab.output.renderOutput(dataTable, element);\n",
              "          const docLink = document.createElement('div');\n",
              "          docLink.innerHTML = docLinkHtml;\n",
              "          element.appendChild(docLink);\n",
              "        }\n",
              "      </script>\n",
              "    </div>\n",
              "  </div>\n",
              "  "
            ]
          },
          "metadata": {},
          "execution_count": 80
        }
      ]
    },
    {
      "cell_type": "code",
      "source": [
        "data3uba.loc[data3uba['gender']== 'm'].careers.value_counts().plot(kind='barh', figsize=(7,13))\n",
        "plt.xlabel('Cantidad  de hombres inscriptos')\n",
        "plt.ylabel('Carrera')"
      ],
      "metadata": {
        "colab": {
          "base_uri": "https://localhost:8080/",
          "height": 787
        },
        "id": "0kbzNCtsGWMx",
        "outputId": "335b5aff-ab9a-4714-bf64-32ef2553255c"
      },
      "execution_count": null,
      "outputs": [
        {
          "output_type": "execute_result",
          "data": {
            "text/plain": [
              "Text(0, 0.5, 'Carrera')"
            ]
          },
          "metadata": {},
          "execution_count": 86
        },
        {
          "output_type": "display_data",
          "data": {
            "text/plain": [
              "<Figure size 504x936 with 1 Axes>"
            ],
            "image/png": "[encoded data removed]"
          },
          "metadata": {
            "needs_background": "light"
          }
        }
      ]
    },
    {
      "cell_type": "code",
      "source": [
        "data3uba.loc[data3uba['gender']== 'f'].careers.value_counts().plot(kind='barh', figsize=(7,13))\n",
        "plt.xlabel('Cantidad  de  mujeres inscriptas')\n",
        "plt.ylabel('Carrera')"
      ],
      "metadata": {
        "colab": {
          "base_uri": "https://localhost:8080/",
          "height": 787
        },
        "id": "ePAzn9BKEG_X",
        "outputId": "21a5a9b7-8306-4b8e-c823-2c320b7a2e57"
      },
      "execution_count": null,
      "outputs": [
        {
          "output_type": "execute_result",
          "data": {
            "text/plain": [
              "Text(0, 0.5, 'Carrera')"
            ]
          },
          "metadata": {},
          "execution_count": 87
        },
        {
          "output_type": "display_data",
          "data": {
            "text/plain": [
              "<Figure size 504x936 with 1 Axes>"
            ],
            "image/png": "[encoded data removed]"
          },
          "metadata": {
            "needs_background": "light"
          }
        }
      ]
    },
    {
      "cell_type": "code",
      "source": [
        " data3uba.loc[data3uba['gender']== 'm'].zipcodes.value_counts().plot(kind='bar', figsize=(21,5))"
      ],
      "metadata": {
        "colab": {
          "base_uri": "https://localhost:8080/",
          "height": 353
        },
        "id": "J9Pa86WOHmz8",
        "outputId": "36a39fed-9158-4692-c67e-dca39bef9b51"
      },
      "execution_count": null,
      "outputs": [
        {
          "output_type": "execute_result",
          "data": {
            "text/plain": [
              "<matplotlib.axes._subplots.AxesSubplot at 0x7ff906855450>"
            ]
          },
          "metadata": {},
          "execution_count": 88
        },
        {
          "output_type": "display_data",
          "data": {
            "text/plain": [
              "<Figure size 1512x360 with 1 Axes>"
            ],
            "image/png": "[encoded data removed]"
          },
          "metadata": {
            "needs_background": "light"
          }
        }
      ]
    },
    {
      "cell_type": "code",
      "source": [
        "dfubaf= data3uba.loc[data3uba['gender']=='f']\n",
        "dfubaf.head()"
      ],
      "metadata": {
        "colab": {
          "base_uri": "https://localhost:8080/",
          "height": 337
        },
        "id": "weiibdIE8-Qt",
        "outputId": "ed55da56-2c4c-4dcf-c7b6-f24706f24e23"
      },
      "execution_count": null,
      "outputs": [
        {
          "output_type": "execute_result",
          "data": {
            "text/plain": [
              "          last_name gender                                            address  \\\n",
              "1       amy-wallace      f  4440-edward-junctions-apt.-088\\neast-brian,-ar...   \n",
              "2         jody-kirk      f           3452-adam-mountains\\nkingburgh,-mn-04132   \n",
              "3     angela-hudson      f            8672-rasmussen-way\\nleviville,-id-98957   \n",
              "4      ashley-brown      f                   psc-6274,-box-1394\\napo-ap-22919   \n",
              "5  jessica-sandoval      f              4934-robyn-burg\\nlake-sandy,-al-36317   \n",
              "\n",
              "                       emails birth_date                 universities  \\\n",
              "1       brookejones@yahoo.com  21-Mar-12  universidad-de-buenos-aires   \n",
              "2      tinaturner@hotmail.com  67-Oct-26  universidad-de-buenos-aires   \n",
              "3        cpatterson@yahoo.com  05-Feb-21  universidad-de-buenos-aires   \n",
              "4  turnerveronica@hotmail.com  35-Sep-28  universidad-de-buenos-aires   \n",
              "5       melinda04@hotmail.com  45-Sep-12  universidad-de-buenos-aires   \n",
              "\n",
              "  inscription_date                                   careers zipcodes  age  \n",
              "1        20-Sep-24                                 actuario-     8431    1  \n",
              "2        21-Jul-14                                 actuario-     3425  -45  \n",
              "3        20-Sep-27  licenciatura-en-gestión-de-agroalimentos     3151   17  \n",
              "4        20-Feb-01                 ingeniería-en-informática     6706  -13  \n",
              "5        20-Oct-18                                  medicina     6601  -23  "
            ],
            "text/html": [
              "\n",
              "  <div id=\"df-cfa24a1c-4f9b-4ae0-a4ad-35fd89c22c50\">\n",
              "    <div class=\"colab-df-container\">\n",
              "      <div>\n",
              "<style scoped>\n",
              "    .dataframe tbody tr th:only-of-type {\n",
              "        vertical-align: middle;\n",
              "    }\n",
              "\n",
              "    .dataframe tbody tr th {\n",
              "        vertical-align: top;\n",
              "    }\n",
              "\n",
              "    .dataframe thead th {\n",
              "        text-align: right;\n",
              "    }\n",
              "</style>\n",
              "<table border=\"1\" class=\"dataframe\">\n",
              "  <thead>\n",
              "    <tr style=\"text-align: right;\">\n",
              "      <th></th>\n",
              "      <th>last_name</th>\n",
              "      <th>gender</th>\n",
              "      <th>address</th>\n",
              "      <th>emails</th>\n",
              "      <th>birth_date</th>\n",
              "      <th>universities</th>\n",
              "      <th>inscription_date</th>\n",
              "      <th>careers</th>\n",
              "      <th>zipcodes</th>\n",
              "      <th>age</th>\n",
              "    </tr>\n",
              "  </thead>\n",
              "  <tbody>\n",
              "    <tr>\n",
              "      <th>1</th>\n",
              "      <td>amy-wallace</td>\n",
              "      <td>f</td>\n",
              "      <td>4440-edward-junctions-apt.-088\\neast-brian,-ar...</td>\n",
              "      <td>brookejones@yahoo.com</td>\n",
              "      <td>21-Mar-12</td>\n",
              "      <td>universidad-de-buenos-aires</td>\n",
              "      <td>20-Sep-24</td>\n",
              "      <td>actuario-</td>\n",
              "      <td>8431</td>\n",
              "      <td>1</td>\n",
              "    </tr>\n",
              "    <tr>\n",
              "      <th>2</th>\n",
              "      <td>jody-kirk</td>\n",
              "      <td>f</td>\n",
              "      <td>3452-adam-mountains\\nkingburgh,-mn-04132</td>\n",
              "      <td>tinaturner@hotmail.com</td>\n",
              "      <td>67-Oct-26</td>\n",
              "      <td>universidad-de-buenos-aires</td>\n",
              "      <td>21-Jul-14</td>\n",
              "      <td>actuario-</td>\n",
              "      <td>3425</td>\n",
              "      <td>-45</td>\n",
              "    </tr>\n",
              "    <tr>\n",
              "      <th>3</th>\n",
              "      <td>angela-hudson</td>\n",
              "      <td>f</td>\n",
              "      <td>8672-rasmussen-way\\nleviville,-id-98957</td>\n",
              "      <td>cpatterson@yahoo.com</td>\n",
              "      <td>05-Feb-21</td>\n",
              "      <td>universidad-de-buenos-aires</td>\n",
              "      <td>20-Sep-27</td>\n",
              "      <td>licenciatura-en-gestión-de-agroalimentos</td>\n",
              "      <td>3151</td>\n",
              "      <td>17</td>\n",
              "    </tr>\n",
              "    <tr>\n",
              "      <th>4</th>\n",
              "      <td>ashley-brown</td>\n",
              "      <td>f</td>\n",
              "      <td>psc-6274,-box-1394\\napo-ap-22919</td>\n",
              "      <td>turnerveronica@hotmail.com</td>\n",
              "      <td>35-Sep-28</td>\n",
              "      <td>universidad-de-buenos-aires</td>\n",
              "      <td>20-Feb-01</td>\n",
              "      <td>ingeniería-en-informática</td>\n",
              "      <td>6706</td>\n",
              "      <td>-13</td>\n",
              "    </tr>\n",
              "    <tr>\n",
              "      <th>5</th>\n",
              "      <td>jessica-sandoval</td>\n",
              "      <td>f</td>\n",
              "      <td>4934-robyn-burg\\nlake-sandy,-al-36317</td>\n",
              "      <td>melinda04@hotmail.com</td>\n",
              "      <td>45-Sep-12</td>\n",
              "      <td>universidad-de-buenos-aires</td>\n",
              "      <td>20-Oct-18</td>\n",
              "      <td>medicina</td>\n",
              "      <td>6601</td>\n",
              "      <td>-23</td>\n",
              "    </tr>\n",
              "  </tbody>\n",
              "</table>\n",
              "</div>\n",
              "      <button class=\"colab-df-convert\" onclick=\"convertToInteractive('df-cfa24a1c-4f9b-4ae0-a4ad-35fd89c22c50')\"\n",
              "              title=\"Convert this dataframe to an interactive table.\"\n",
              "              style=\"display:none;\">\n",
              "        \n",
              "  <svg xmlns=\"http://www.w3.org/2000/svg\" height=\"24px\"viewBox=\"0 0 24 24\"\n",
              "       width=\"24px\">\n",
              "    <path d=\"M0 0h24v24H0V0z\" fill=\"none\"/>\n",
              "    <path d=\"M18.56 5.44l.94 2.06.94-2.06 2.06-.94-2.06-.94-.94-2.06-.94 2.06-2.06.94zm-11 1L8.5 8.5l.94-2.06 2.06-.94-2.06-.94L8.5 2.5l-.94 2.06-2.06.94zm10 10l.94 2.06.94-2.06 2.06-.94-2.06-.94-.94-2.06-.94 2.06-2.06.94z\"/><path d=\"M17.41 7.96l-1.37-1.37c-.4-.4-.92-.59-1.43-.59-.52 0-1.04.2-1.43.59L10.3 9.45l-7.72 7.72c-.78.78-.78 2.05 0 2.83L4 21.41c.39.39.9.59 1.41.59.51 0 1.02-.2 1.41-.59l7.78-7.78 2.81-2.81c.8-.78.8-2.07 0-2.86zM5.41 20L4 18.59l7.72-7.72 1.47 1.35L5.41 20z\"/>\n",
              "  </svg>\n",
              "      </button>\n",
              "      \n",
              "  <style>\n",
              "    .colab-df-container {\n",
              "      display:flex;\n",
              "      flex-wrap:wrap;\n",
              "      gap: 12px;\n",
              "    }\n",
              "\n",
              "    .colab-df-convert {\n",
              "      background-color: #E8F0FE;\n",
              "      border: none;\n",
              "      border-radius: 50%;\n",
              "      cursor: pointer;\n",
              "      display: none;\n",
              "      fill: #1967D2;\n",
              "      height: 32px;\n",
              "      padding: 0 0 0 0;\n",
              "      width: 32px;\n",
              "    }\n",
              "\n",
              "    .colab-df-convert:hover {\n",
              "      background-color: #E2EBFA;\n",
              "      box-shadow: 0px 1px 2px rgba(60, 64, 67, 0.3), 0px 1px 3px 1px rgba(60, 64, 67, 0.15);\n",
              "      fill: #174EA6;\n",
              "    }\n",
              "\n",
              "    [theme=dark] .colab-df-convert {\n",
              "      background-color: #3B4455;\n",
              "      fill: #D2E3FC;\n",
              "    }\n",
              "\n",
              "    [theme=dark] .colab-df-convert:hover {\n",
              "      background-color: #434B5C;\n",
              "      box-shadow: 0px 1px 3px 1px rgba(0, 0, 0, 0.15);\n",
              "      filter: drop-shadow(0px 1px 2px rgba(0, 0, 0, 0.3));\n",
              "      fill: #FFFFFF;\n",
              "    }\n",
              "  </style>\n",
              "\n",
              "      <script>\n",
              "        const buttonEl =\n",
              "          document.querySelector('#df-cfa24a1c-4f9b-4ae0-a4ad-35fd89c22c50 button.colab-df-convert');\n",
              "        buttonEl.style.display =\n",
              "          google.colab.kernel.accessAllowed ? 'block' : 'none';\n",
              "\n",
              "        async function convertToInteractive(key) {\n",
              "          const element = document.querySelector('#df-cfa24a1c-4f9b-4ae0-a4ad-35fd89c22c50');\n",
              "          const dataTable =\n",
              "            await google.colab.kernel.invokeFunction('convertToInteractive',\n",
              "                                                     [key], {});\n",
              "          if (!dataTable) return;\n",
              "\n",
              "          const docLinkHtml = 'Like what you see? Visit the ' +\n",
              "            '<a target=\"_blank\" href=https://colab.research.google.com/notebooks/data_table.ipynb>data table notebook</a>'\n",
              "            + ' to learn more about interactive tables.';\n",
              "          element.innerHTML = '';\n",
              "          dataTable['output_type'] = 'display_data';\n",
              "          await google.colab.output.renderOutput(dataTable, element);\n",
              "          const docLink = document.createElement('div');\n",
              "          docLink.innerHTML = docLinkHtml;\n",
              "          element.appendChild(docLink);\n",
              "        }\n",
              "      </script>\n",
              "    </div>\n",
              "  </div>\n",
              "  "
            ]
          },
          "metadata": {},
          "execution_count": 89
        }
      ]
    },
    {
      "cell_type": "code",
      "source": [
        "dff=dfubaf['careers'].value_counts().sort_values(ascending=False)\n",
        "dff"
      ],
      "metadata": {
        "colab": {
          "base_uri": "https://localhost:8080/"
        },
        "id": "smoHawZg9MOp",
        "outputId": "77f549fc-1403-4719-9f1b-cdb0a01da4a6"
      },
      "execution_count": null,
      "outputs": [
        {
          "output_type": "execute_result",
          "data": {
            "text/plain": [
              "agronomía                                             173\n",
              "licenciatura-en-administración-                       172\n",
              "licenciatura-en-producción-de-bioimagenes             171\n",
              "bioquímica                                            168\n",
              "licenciatura-en-ciencias-antropológicas               168\n",
              "licenciatura-en-sociología-                           162\n",
              "licenciatura-en-relaciones-del-trabajo-               160\n",
              "diseño-de-imagen-y-sonido                             158\n",
              "ingeniería-mecánica                                   156\n",
              "diseño-industrial                                     156\n",
              "licenciatura-en-musicoterapia                         155\n",
              "licenciatura-en-ciencias-biológicas                   153\n",
              "licenciatura-en-psicología                            151\n",
              "técnico-para-bioterios-                               151\n",
              "licenciatura-en-ciencia-política-                     150\n",
              "medicina                                              149\n",
              "licenciatura-en-ciencias-de-la-educación-             149\n",
              "actuario-                                             148\n",
              "contador-público-                                     146\n",
              "ciencias-veterinarias                                 146\n",
              "licenciatura-en-ciencias-de-la-computación            146\n",
              "licenciatura-en-kinesiología-y-fisiatría              145\n",
              "ingeniería-en-informática                             145\n",
              "licenciatura-en-terapia-ocupacional                   142\n",
              "farmacia                                              140\n",
              "licenciatura-en-ciencia-y-tecnología-de-alimentos     140\n",
              "ingeniería-electrónica                                139\n",
              "licenciatura-en-gestión-de-agroalimentos              138\n",
              "licenciatura-en-planificación-y-diseño-del-paisaje    138\n",
              "licenciatura-en-artes                                 136\n",
              "licenciatura-en-ciencias-ambientales                  135\n",
              "licenciatura-en-ciencias-geológicas                   127\n",
              "arquitectura                                          125\n",
              "Name: careers, dtype: int64"
            ]
          },
          "metadata": {},
          "execution_count": 90
        }
      ]
    },
    {
      "cell_type": "code",
      "source": [
        "dfm=dfubam.careers.value_counts().sort_values(ascending=False)\n",
        "dfm"
      ],
      "metadata": {
        "colab": {
          "base_uri": "https://localhost:8080/"
        },
        "id": "q-SCezJS9kpi",
        "outputId": "5ca17ad2-0575-42b5-adcc-163c7ae98a10"
      },
      "execution_count": null,
      "outputs": [
        {
          "output_type": "execute_result",
          "data": {
            "text/plain": [
              "ingeniería-electrónica                                184\n",
              "licenciatura-en-relaciones-del-trabajo-               179\n",
              "licenciatura-en-ciencias-geológicas                   176\n",
              "licenciatura-en-ciencias-antropológicas               168\n",
              "licenciatura-en-musicoterapia                         167\n",
              "técnico-para-bioterios-                               161\n",
              "licenciatura-en-ciencias-ambientales                  161\n",
              "licenciatura-en-kinesiología-y-fisiatría              159\n",
              "licenciatura-en-ciencias-de-la-educación-             159\n",
              "diseño-de-imagen-y-sonido                             158\n",
              "arquitectura                                          156\n",
              "licenciatura-en-psicología                            154\n",
              "bioquímica                                            154\n",
              "licenciatura-en-ciencias-de-la-computación            153\n",
              "licenciatura-en-ciencias-biológicas                   153\n",
              "licenciatura-en-terapia-ocupacional                   153\n",
              "licenciatura-en-ciencia-y-tecnología-de-alimentos     152\n",
              "medicina                                              150\n",
              "licenciatura-en-gestión-de-agroalimentos              150\n",
              "ingeniería-en-informática                             150\n",
              "licenciatura-en-artes                                 150\n",
              "actuario-                                             149\n",
              "licenciatura-en-sociología-                           146\n",
              "farmacia                                              146\n",
              "agronomía                                             144\n",
              "licenciatura-en-ciencia-política-                     142\n",
              "ciencias-veterinarias                                 140\n",
              "licenciatura-en-planificación-y-diseño-del-paisaje    139\n",
              "licenciatura-en-administración-                       138\n",
              "licenciatura-en-producción-de-bioimagenes             137\n",
              "diseño-industrial                                     132\n",
              "ingeniería-mecánica                                   129\n",
              "contador-público-                                     127\n",
              "Name: careers, dtype: int64"
            ]
          },
          "metadata": {},
          "execution_count": 91
        }
      ]
    },
    {
      "cell_type": "code",
      "source": [
        "data3uba['age'].hist(bins=20)"
      ],
      "metadata": {
        "colab": {
          "base_uri": "https://localhost:8080/",
          "height": 283
        },
        "id": "GNYFkjhy9uLu",
        "outputId": "b0d8c27a-e9c4-41d8-b702-bf0e90a92e70"
      },
      "execution_count": null,
      "outputs": [
        {
          "output_type": "execute_result",
          "data": {
            "text/plain": [
              "<matplotlib.axes._subplots.AxesSubplot at 0x7ff9057d3a90>"
            ]
          },
          "metadata": {},
          "execution_count": 95
        },
        {
          "output_type": "display_data",
          "data": {
            "text/plain": [
              "<Figure size 432x288 with 1 Axes>"
            ],
            "image/png": "[encoded data removed]"
          },
          "metadata": {
            "needs_background": "light"
          }
        }
      ]
    },
    {
      "cell_type": "code",
      "source": [
        "\n",
        "dfubaage= data3uba.groupby('age')['careers'].value_counts().sort_values(ascending=False)\n",
        "dfubaage"
      ],
      "metadata": {
        "colab": {
          "base_uri": "https://localhost:8080/"
        },
        "id": "t9T3BCs4nNMY",
        "outputId": "ab855ff8-6320-49db-8116-cfc28bc5b9e4"
      },
      "execution_count": null,
      "outputs": [
        {
          "output_type": "execute_result",
          "data": {
            "text/plain": [
              "age  careers                                   \n",
              " 14  licenciatura-en-ciencias-biológicas           13\n",
              " 9   ingeniería-electrónica                        13\n",
              " 8   ingeniería-electrónica                        12\n",
              " 9   licenciatura-en-ciencias-geológicas           12\n",
              " 4   bioquímica                                    12\n",
              "                                                   ..\n",
              " 2   farmacia                                       1\n",
              "     licenciatura-en-ciencias-de-la-computación     1\n",
              "-47  diseño-de-imagen-y-sonido                      1\n",
              " 4   licenciatura-en-relaciones-del-trabajo-        1\n",
              " 53  medicina                                       1\n",
              "Name: careers, Length: 3109, dtype: int64"
            ]
          },
          "metadata": {},
          "execution_count": 100
        }
      ]
    },
    {
      "cell_type": "code",
      "source": [
        "data3uba.loc[data3uba['age']>= 18].careers.value_counts().plot(kind='barh', figsize=(15,5))\n"
      ],
      "metadata": {
        "colab": {
          "base_uri": "https://localhost:8080/",
          "height": 338
        },
        "id": "r9PZnSJkoLSK",
        "outputId": "6c0bf5be-ca58-49ee-ef2b-8f88aaa18c8b"
      },
      "execution_count": null,
      "outputs": [
        {
          "output_type": "execute_result",
          "data": {
            "text/plain": [
              "<matplotlib.axes._subplots.AxesSubplot at 0x7ff9041fc790>"
            ]
          },
          "metadata": {},
          "execution_count": 105
        },
        {
          "output_type": "display_data",
          "data": {
            "text/plain": [
              "<Figure size 1080x360 with 1 Axes>"
            ],
            "image/png": "[encoded data removed]"
          },
          "metadata": {
            "needs_background": "light"
          }
        }
      ]
    },
    {
      "cell_type": "code",
      "source": [
        "data3uba['inscription_date']= pd.Series(data3uba['inscription_date'])\n"
      ],
      "metadata": {
        "id": "1YmQG0hVrHx9"
      },
      "execution_count": null,
      "outputs": []
    },
    {
      "cell_type": "code",
      "source": [
        "data3uba['inscription_date']=data3uba['inscription_date'].apply(lambda x: datetime.strptime(x, \"%y-%b-%d\"))\n",
        "print(data3uba['inscription_date'])"
      ],
      "metadata": {
        "colab": {
          "base_uri": "https://localhost:8080/"
        },
        "id": "q8I5yqrXsTF8",
        "outputId": "accd4579-4f61-415c-d29c-e480ce830f68"
      },
      "execution_count": null,
      "outputs": [
        {
          "output_type": "stream",
          "name": "stdout",
          "text": [
            "0      2019-10-26\n",
            "1      2020-09-24\n",
            "2      2021-07-14\n",
            "3      2020-09-27\n",
            "4      2020-02-01\n",
            "          ...    \n",
            "9949   2021-06-24\n",
            "9950   2021-11-12\n",
            "9951   2020-03-31\n",
            "9952   2020-01-05\n",
            "9953   2020-11-18\n",
            "Name: inscription_date, Length: 9954, dtype: datetime64[ns]\n"
          ]
        }
      ]
    },
    {
      "cell_type": "code",
      "source": [
        "ins= data3uba['inscription_date'].to_frame()\n",
        "ins"
      ],
      "metadata": {
        "colab": {
          "base_uri": "https://localhost:8080/",
          "height": 423
        },
        "id": "6LM04mK4tSU3",
        "outputId": "3d875460-30dd-4dcc-f097-5923ccb5321c"
      },
      "execution_count": null,
      "outputs": [
        {
          "output_type": "execute_result",
          "data": {
            "text/plain": [
              "     inscription_date\n",
              "0          2019-10-26\n",
              "1          2020-09-24\n",
              "2          2021-07-14\n",
              "3          2020-09-27\n",
              "4          2020-02-01\n",
              "...               ...\n",
              "9949       2021-06-24\n",
              "9950       2021-11-12\n",
              "9951       2020-03-31\n",
              "9952       2020-01-05\n",
              "9953       2020-11-18\n",
              "\n",
              "[9954 rows x 1 columns]"
            ],
            "text/html": [
              "\n",
              "  <div id=\"df-7b352d7b-1071-4db4-a983-3a69da14c389\">\n",
              "    <div class=\"colab-df-container\">\n",
              "      <div>\n",
              "<style scoped>\n",
              "    .dataframe tbody tr th:only-of-type {\n",
              "        vertical-align: middle;\n",
              "    }\n",
              "\n",
              "    .dataframe tbody tr th {\n",
              "        vertical-align: top;\n",
              "    }\n",
              "\n",
              "    .dataframe thead th {\n",
              "        text-align: right;\n",
              "    }\n",
              "</style>\n",
              "<table border=\"1\" class=\"dataframe\">\n",
              "  <thead>\n",
              "    <tr style=\"text-align: right;\">\n",
              "      <th></th>\n",
              "      <th>inscription_date</th>\n",
              "    </tr>\n",
              "  </thead>\n",
              "  <tbody>\n",
              "    <tr>\n",
              "      <th>0</th>\n",
              "      <td>2019-10-26</td>\n",
              "    </tr>\n",
              "    <tr>\n",
              "      <th>1</th>\n",
              "      <td>2020-09-24</td>\n",
              "    </tr>\n",
              "    <tr>\n",
              "      <th>2</th>\n",
              "      <td>2021-07-14</td>\n",
              "    </tr>\n",
              "    <tr>\n",
              "      <th>3</th>\n",
              "      <td>2020-09-27</td>\n",
              "    </tr>\n",
              "    <tr>\n",
              "      <th>4</th>\n",
              "      <td>2020-02-01</td>\n",
              "    </tr>\n",
              "    <tr>\n",
              "      <th>...</th>\n",
              "      <td>...</td>\n",
              "    </tr>\n",
              "    <tr>\n",
              "      <th>9949</th>\n",
              "      <td>2021-06-24</td>\n",
              "    </tr>\n",
              "    <tr>\n",
              "      <th>9950</th>\n",
              "      <td>2021-11-12</td>\n",
              "    </tr>\n",
              "    <tr>\n",
              "      <th>9951</th>\n",
              "      <td>2020-03-31</td>\n",
              "    </tr>\n",
              "    <tr>\n",
              "      <th>9952</th>\n",
              "      <td>2020-01-05</td>\n",
              "    </tr>\n",
              "    <tr>\n",
              "      <th>9953</th>\n",
              "      <td>2020-11-18</td>\n",
              "    </tr>\n",
              "  </tbody>\n",
              "</table>\n",
              "<p>9954 rows × 1 columns</p>\n",
              "</div>\n",
              "      <button class=\"colab-df-convert\" onclick=\"convertToInteractive('df-7b352d7b-1071-4db4-a983-3a69da14c389')\"\n",
              "              title=\"Convert this dataframe to an interactive table.\"\n",
              "              style=\"display:none;\">\n",
              "        \n",
              "  <svg xmlns=\"http://www.w3.org/2000/svg\" height=\"24px\"viewBox=\"0 0 24 24\"\n",
              "       width=\"24px\">\n",
              "    <path d=\"M0 0h24v24H0V0z\" fill=\"none\"/>\n",
              "    <path d=\"M18.56 5.44l.94 2.06.94-2.06 2.06-.94-2.06-.94-.94-2.06-.94 2.06-2.06.94zm-11 1L8.5 8.5l.94-2.06 2.06-.94-2.06-.94L8.5 2.5l-.94 2.06-2.06.94zm10 10l.94 2.06.94-2.06 2.06-.94-2.06-.94-.94-2.06-.94 2.06-2.06.94z\"/><path d=\"M17.41 7.96l-1.37-1.37c-.4-.4-.92-.59-1.43-.59-.52 0-1.04.2-1.43.59L10.3 9.45l-7.72 7.72c-.78.78-.78 2.05 0 2.83L4 21.41c.39.39.9.59 1.41.59.51 0 1.02-.2 1.41-.59l7.78-7.78 2.81-2.81c.8-.78.8-2.07 0-2.86zM5.41 20L4 18.59l7.72-7.72 1.47 1.35L5.41 20z\"/>\n",
              "  </svg>\n",
              "      </button>\n",
              "      \n",
              "  <style>\n",
              "    .colab-df-container {\n",
              "      display:flex;\n",
              "      flex-wrap:wrap;\n",
              "      gap: 12px;\n",
              "    }\n",
              "\n",
              "    .colab-df-convert {\n",
              "      background-color: #E8F0FE;\n",
              "      border: none;\n",
              "      border-radius: 50%;\n",
              "      cursor: pointer;\n",
              "      display: none;\n",
              "      fill: #1967D2;\n",
              "      height: 32px;\n",
              "      padding: 0 0 0 0;\n",
              "      width: 32px;\n",
              "    }\n",
              "\n",
              "    .colab-df-convert:hover {\n",
              "      background-color: #E2EBFA;\n",
              "      box-shadow: 0px 1px 2px rgba(60, 64, 67, 0.3), 0px 1px 3px 1px rgba(60, 64, 67, 0.15);\n",
              "      fill: #174EA6;\n",
              "    }\n",
              "\n",
              "    [theme=dark] .colab-df-convert {\n",
              "      background-color: #3B4455;\n",
              "      fill: #D2E3FC;\n",
              "    }\n",
              "\n",
              "    [theme=dark] .colab-df-convert:hover {\n",
              "      background-color: #434B5C;\n",
              "      box-shadow: 0px 1px 3px 1px rgba(0, 0, 0, 0.15);\n",
              "      filter: drop-shadow(0px 1px 2px rgba(0, 0, 0, 0.3));\n",
              "      fill: #FFFFFF;\n",
              "    }\n",
              "  </style>\n",
              "\n",
              "      <script>\n",
              "        const buttonEl =\n",
              "          document.querySelector('#df-7b352d7b-1071-4db4-a983-3a69da14c389 button.colab-df-convert');\n",
              "        buttonEl.style.display =\n",
              "          google.colab.kernel.accessAllowed ? 'block' : 'none';\n",
              "\n",
              "        async function convertToInteractive(key) {\n",
              "          const element = document.querySelector('#df-7b352d7b-1071-4db4-a983-3a69da14c389');\n",
              "          const dataTable =\n",
              "            await google.colab.kernel.invokeFunction('convertToInteractive',\n",
              "                                                     [key], {});\n",
              "          if (!dataTable) return;\n",
              "\n",
              "          const docLinkHtml = 'Like what you see? Visit the ' +\n",
              "            '<a target=\"_blank\" href=https://colab.research.google.com/notebooks/data_table.ipynb>data table notebook</a>'\n",
              "            + ' to learn more about interactive tables.';\n",
              "          element.innerHTML = '';\n",
              "          dataTable['output_type'] = 'display_data';\n",
              "          await google.colab.output.renderOutput(dataTable, element);\n",
              "          const docLink = document.createElement('div');\n",
              "          docLink.innerHTML = docLinkHtml;\n",
              "          element.appendChild(docLink);\n",
              "        }\n",
              "      </script>\n",
              "    </div>\n",
              "  </div>\n",
              "  "
            ]
          },
          "metadata": {},
          "execution_count": 125
        }
      ]
    },
    {
      "cell_type": "code",
      "source": [
        "data3uba['inscription_date'].hist(figsize=(21,5), bins=100)"
      ],
      "metadata": {
        "colab": {
          "base_uri": "https://localhost:8080/",
          "height": 338
        },
        "id": "DXMGhoYTsmeZ",
        "outputId": "9c9968c0-65b5-422a-d6b4-48ad30acc27a"
      },
      "execution_count": null,
      "outputs": [
        {
          "output_type": "execute_result",
          "data": {
            "text/plain": [
              "<matplotlib.axes._subplots.AxesSubplot at 0x7ff901eaf410>"
            ]
          },
          "metadata": {},
          "execution_count": 145
        },
        {
          "output_type": "display_data",
          "data": {
            "text/plain": [
              "<Figure size 1512x360 with 1 Axes>"
            ],
            "image/png": "[encoded data removed]"
          },
          "metadata": {
            "needs_background": "light"
          }
        }
      ]
    },
    {
      "cell_type": "markdown",
      "source": [
        "# Completar tabla con  localidad"
      ],
      "metadata": {
        "id": "n9u4inBd1yqQ"
      }
    },
    {
      "cell_type": "code",
      "source": [
        "import pandas as pd"
      ],
      "metadata": {
        "id": "ZDVJGMyy4ddF"
      },
      "execution_count": null,
      "outputs": []
    },
    {
      "cell_type": "code",
      "metadata": {
        "id": "cB9dbxh6V4DH"
      },
      "source": [
        "urlpost = '/content/drive/MyDrive/Alkemy/postales.csv'"
      ],
      "execution_count": null,
      "outputs": []
    },
    {
      "cell_type": "code",
      "source": [
        "urlpost2 = \"/content/drive/MyDrive/Colab Notebooks/codpost.csv\""
      ],
      "metadata": {
        "id": "yYSh1lWp4XyP"
      },
      "execution_count": null,
      "outputs": []
    },
    {
      "cell_type": "code",
      "source": [
        "post= pd.read_csv(urlpost2, sep = ',', encoding_errors='ignore')"
      ],
      "metadata": {
        "id": "rVNJ8rOq1255"
      },
      "execution_count": null,
      "outputs": []
    },
    {
      "cell_type": "code",
      "source": [
        "post.head()"
      ],
      "metadata": {
        "colab": {
          "base_uri": "https://localhost:8080/",
          "height": 206
        },
        "id": "C208LjBl120V",
        "outputId": "ba4e1cea-b897-4b25-c7fb-47d5cef283c0"
      },
      "execution_count": null,
      "outputs": [
        {
          "output_type": "execute_result",
          "data": {
            "text/plain": [
              "   codigo_postal           localidad\n",
              "0           1601  ISLA MARTIN GARCIA\n",
              "1           1602             FLORIDA\n",
              "2           1603      VILLA MARTELLI\n",
              "3           1605          CARAPACHAY\n",
              "4           1607       VILLA ADELINA"
            ],
            "text/html": [
              "\n",
              "  <div id=\"df-21a0cff4-b77b-4606-9f7a-d7a17bb247f4\">\n",
              "    <div class=\"colab-df-container\">\n",
              "      <div>\n",
              "<style scoped>\n",
              "    .dataframe tbody tr th:only-of-type {\n",
              "        vertical-align: middle;\n",
              "    }\n",
              "\n",
              "    .dataframe tbody tr th {\n",
              "        vertical-align: top;\n",
              "    }\n",
              "\n",
              "    .dataframe thead th {\n",
              "        text-align: right;\n",
              "    }\n",
              "</style>\n",
              "<table border=\"1\" class=\"dataframe\">\n",
              "  <thead>\n",
              "    <tr style=\"text-align: right;\">\n",
              "      <th></th>\n",
              "      <th>codigo_postal</th>\n",
              "      <th>localidad</th>\n",
              "    </tr>\n",
              "  </thead>\n",
              "  <tbody>\n",
              "    <tr>\n",
              "      <th>0</th>\n",
              "      <td>1601</td>\n",
              "      <td>ISLA MARTIN GARCIA</td>\n",
              "    </tr>\n",
              "    <tr>\n",
              "      <th>1</th>\n",
              "      <td>1602</td>\n",
              "      <td>FLORIDA</td>\n",
              "    </tr>\n",
              "    <tr>\n",
              "      <th>2</th>\n",
              "      <td>1603</td>\n",
              "      <td>VILLA MARTELLI</td>\n",
              "    </tr>\n",
              "    <tr>\n",
              "      <th>3</th>\n",
              "      <td>1605</td>\n",
              "      <td>CARAPACHAY</td>\n",
              "    </tr>\n",
              "    <tr>\n",
              "      <th>4</th>\n",
              "      <td>1607</td>\n",
              "      <td>VILLA ADELINA</td>\n",
              "    </tr>\n",
              "  </tbody>\n",
              "</table>\n",
              "</div>\n",
              "      <button class=\"colab-df-convert\" onclick=\"convertToInteractive('df-21a0cff4-b77b-4606-9f7a-d7a17bb247f4')\"\n",
              "              title=\"Convert this dataframe to an interactive table.\"\n",
              "              style=\"display:none;\">\n",
              "        \n",
              "  <svg xmlns=\"http://www.w3.org/2000/svg\" height=\"24px\"viewBox=\"0 0 24 24\"\n",
              "       width=\"24px\">\n",
              "    <path d=\"M0 0h24v24H0V0z\" fill=\"none\"/>\n",
              "    <path d=\"M18.56 5.44l.94 2.06.94-2.06 2.06-.94-2.06-.94-.94-2.06-.94 2.06-2.06.94zm-11 1L8.5 8.5l.94-2.06 2.06-.94-2.06-.94L8.5 2.5l-.94 2.06-2.06.94zm10 10l.94 2.06.94-2.06 2.06-.94-2.06-.94-.94-2.06-.94 2.06-2.06.94z\"/><path d=\"M17.41 7.96l-1.37-1.37c-.4-.4-.92-.59-1.43-.59-.52 0-1.04.2-1.43.59L10.3 9.45l-7.72 7.72c-.78.78-.78 2.05 0 2.83L4 21.41c.39.39.9.59 1.41.59.51 0 1.02-.2 1.41-.59l7.78-7.78 2.81-2.81c.8-.78.8-2.07 0-2.86zM5.41 20L4 18.59l7.72-7.72 1.47 1.35L5.41 20z\"/>\n",
              "  </svg>\n",
              "      </button>\n",
              "      \n",
              "  <style>\n",
              "    .colab-df-container {\n",
              "      display:flex;\n",
              "      flex-wrap:wrap;\n",
              "      gap: 12px;\n",
              "    }\n",
              "\n",
              "    .colab-df-convert {\n",
              "      background-color: #E8F0FE;\n",
              "      border: none;\n",
              "      border-radius: 50%;\n",
              "      cursor: pointer;\n",
              "      display: none;\n",
              "      fill: #1967D2;\n",
              "      height: 32px;\n",
              "      padding: 0 0 0 0;\n",
              "      width: 32px;\n",
              "    }\n",
              "\n",
              "    .colab-df-convert:hover {\n",
              "      background-color: #E2EBFA;\n",
              "      box-shadow: 0px 1px 2px rgba(60, 64, 67, 0.3), 0px 1px 3px 1px rgba(60, 64, 67, 0.15);\n",
              "      fill: #174EA6;\n",
              "    }\n",
              "\n",
              "    [theme=dark] .colab-df-convert {\n",
              "      background-color: #3B4455;\n",
              "      fill: #D2E3FC;\n",
              "    }\n",
              "\n",
              "    [theme=dark] .colab-df-convert:hover {\n",
              "      background-color: #434B5C;\n",
              "      box-shadow: 0px 1px 3px 1px rgba(0, 0, 0, 0.15);\n",
              "      filter: drop-shadow(0px 1px 2px rgba(0, 0, 0, 0.3));\n",
              "      fill: #FFFFFF;\n",
              "    }\n",
              "  </style>\n",
              "\n",
              "      <script>\n",
              "        const buttonEl =\n",
              "          document.querySelector('#df-21a0cff4-b77b-4606-9f7a-d7a17bb247f4 button.colab-df-convert');\n",
              "        buttonEl.style.display =\n",
              "          google.colab.kernel.accessAllowed ? 'block' : 'none';\n",
              "\n",
              "        async function convertToInteractive(key) {\n",
              "          const element = document.querySelector('#df-21a0cff4-b77b-4606-9f7a-d7a17bb247f4');\n",
              "          const dataTable =\n",
              "            await google.colab.kernel.invokeFunction('convertToInteractive',\n",
              "                                                     [key], {});\n",
              "          if (!dataTable) return;\n",
              "\n",
              "          const docLinkHtml = 'Like what you see? Visit the ' +\n",
              "            '<a target=\"_blank\" href=https://colab.research.google.com/notebooks/data_table.ipynb>data table notebook</a>'\n",
              "            + ' to learn more about interactive tables.';\n",
              "          element.innerHTML = '';\n",
              "          dataTable['output_type'] = 'display_data';\n",
              "          await google.colab.output.renderOutput(dataTable, element);\n",
              "          const docLink = document.createElement('div');\n",
              "          docLink.innerHTML = docLinkHtml;\n",
              "          element.appendChild(docLink);\n",
              "        }\n",
              "      </script>\n",
              "    </div>\n",
              "  </div>\n",
              "  "
            ]
          },
          "metadata": {},
          "execution_count": 168
        }
      ]
    },
    {
      "cell_type": "code",
      "source": [
        "post.astype(str)"
      ],
      "metadata": {
        "colab": {
          "base_uri": "https://localhost:8080/",
          "height": 423
        },
        "id": "gcFTOHCWEv0k",
        "outputId": "a64a048d-7299-4005-85b1-26bc2f56f2d0"
      },
      "execution_count": null,
      "outputs": [
        {
          "output_type": "execute_result",
          "data": {
            "text/plain": [
              "     codigo_postal                     localidad\n",
              "0             1601            ISLA MARTIN GARCIA\n",
              "1             1602                       FLORIDA\n",
              "2             1603                VILLA MARTELLI\n",
              "3             1605                    CARAPACHAY\n",
              "4             1607                 VILLA ADELINA\n",
              "...            ...                           ...\n",
              "1515          9409             ISLA GRAN MALVINA\n",
              "1516          9410                BAHIA LAPATAIA\n",
              "1517          9411  BASE AEREA TENIENTE MATIENZO\n",
              "1518          9420             ASERRADERO ARROYO\n",
              "1519          9421               FRIGORIFICO CAP\n",
              "\n",
              "[1520 rows x 2 columns]"
            ],
            "text/html": [
              "\n",
              "  <div id=\"df-4ebf8e58-1688-4a73-b4cd-01b6fbc04591\">\n",
              "    <div class=\"colab-df-container\">\n",
              "      <div>\n",
              "<style scoped>\n",
              "    .dataframe tbody tr th:only-of-type {\n",
              "        vertical-align: middle;\n",
              "    }\n",
              "\n",
              "    .dataframe tbody tr th {\n",
              "        vertical-align: top;\n",
              "    }\n",
              "\n",
              "    .dataframe thead th {\n",
              "        text-align: right;\n",
              "    }\n",
              "</style>\n",
              "<table border=\"1\" class=\"dataframe\">\n",
              "  <thead>\n",
              "    <tr style=\"text-align: right;\">\n",
              "      <th></th>\n",
              "      <th>codigo_postal</th>\n",
              "      <th>localidad</th>\n",
              "    </tr>\n",
              "  </thead>\n",
              "  <tbody>\n",
              "    <tr>\n",
              "      <th>0</th>\n",
              "      <td>1601</td>\n",
              "      <td>ISLA MARTIN GARCIA</td>\n",
              "    </tr>\n",
              "    <tr>\n",
              "      <th>1</th>\n",
              "      <td>1602</td>\n",
              "      <td>FLORIDA</td>\n",
              "    </tr>\n",
              "    <tr>\n",
              "      <th>2</th>\n",
              "      <td>1603</td>\n",
              "      <td>VILLA MARTELLI</td>\n",
              "    </tr>\n",
              "    <tr>\n",
              "      <th>3</th>\n",
              "      <td>1605</td>\n",
              "      <td>CARAPACHAY</td>\n",
              "    </tr>\n",
              "    <tr>\n",
              "      <th>4</th>\n",
              "      <td>1607</td>\n",
              "      <td>VILLA ADELINA</td>\n",
              "    </tr>\n",
              "    <tr>\n",
              "      <th>...</th>\n",
              "      <td>...</td>\n",
              "      <td>...</td>\n",
              "    </tr>\n",
              "    <tr>\n",
              "      <th>1515</th>\n",
              "      <td>9409</td>\n",
              "      <td>ISLA GRAN MALVINA</td>\n",
              "    </tr>\n",
              "    <tr>\n",
              "      <th>1516</th>\n",
              "      <td>9410</td>\n",
              "      <td>BAHIA LAPATAIA</td>\n",
              "    </tr>\n",
              "    <tr>\n",
              "      <th>1517</th>\n",
              "      <td>9411</td>\n",
              "      <td>BASE AEREA TENIENTE MATIENZO</td>\n",
              "    </tr>\n",
              "    <tr>\n",
              "      <th>1518</th>\n",
              "      <td>9420</td>\n",
              "      <td>ASERRADERO ARROYO</td>\n",
              "    </tr>\n",
              "    <tr>\n",
              "      <th>1519</th>\n",
              "      <td>9421</td>\n",
              "      <td>FRIGORIFICO CAP</td>\n",
              "    </tr>\n",
              "  </tbody>\n",
              "</table>\n",
              "<p>1520 rows × 2 columns</p>\n",
              "</div>\n",
              "      <button class=\"colab-df-convert\" onclick=\"convertToInteractive('df-4ebf8e58-1688-4a73-b4cd-01b6fbc04591')\"\n",
              "              title=\"Convert this dataframe to an interactive table.\"\n",
              "              style=\"display:none;\">\n",
              "        \n",
              "  <svg xmlns=\"http://www.w3.org/2000/svg\" height=\"24px\"viewBox=\"0 0 24 24\"\n",
              "       width=\"24px\">\n",
              "    <path d=\"M0 0h24v24H0V0z\" fill=\"none\"/>\n",
              "    <path d=\"M18.56 5.44l.94 2.06.94-2.06 2.06-.94-2.06-.94-.94-2.06-.94 2.06-2.06.94zm-11 1L8.5 8.5l.94-2.06 2.06-.94-2.06-.94L8.5 2.5l-.94 2.06-2.06.94zm10 10l.94 2.06.94-2.06 2.06-.94-2.06-.94-.94-2.06-.94 2.06-2.06.94z\"/><path d=\"M17.41 7.96l-1.37-1.37c-.4-.4-.92-.59-1.43-.59-.52 0-1.04.2-1.43.59L10.3 9.45l-7.72 7.72c-.78.78-.78 2.05 0 2.83L4 21.41c.39.39.9.59 1.41.59.51 0 1.02-.2 1.41-.59l7.78-7.78 2.81-2.81c.8-.78.8-2.07 0-2.86zM5.41 20L4 18.59l7.72-7.72 1.47 1.35L5.41 20z\"/>\n",
              "  </svg>\n",
              "      </button>\n",
              "      \n",
              "  <style>\n",
              "    .colab-df-container {\n",
              "      display:flex;\n",
              "      flex-wrap:wrap;\n",
              "      gap: 12px;\n",
              "    }\n",
              "\n",
              "    .colab-df-convert {\n",
              "      background-color: #E8F0FE;\n",
              "      border: none;\n",
              "      border-radius: 50%;\n",
              "      cursor: pointer;\n",
              "      display: none;\n",
              "      fill: #1967D2;\n",
              "      height: 32px;\n",
              "      padding: 0 0 0 0;\n",
              "      width: 32px;\n",
              "    }\n",
              "\n",
              "    .colab-df-convert:hover {\n",
              "      background-color: #E2EBFA;\n",
              "      box-shadow: 0px 1px 2px rgba(60, 64, 67, 0.3), 0px 1px 3px 1px rgba(60, 64, 67, 0.15);\n",
              "      fill: #174EA6;\n",
              "    }\n",
              "\n",
              "    [theme=dark] .colab-df-convert {\n",
              "      background-color: #3B4455;\n",
              "      fill: #D2E3FC;\n",
              "    }\n",
              "\n",
              "    [theme=dark] .colab-df-convert:hover {\n",
              "      background-color: #434B5C;\n",
              "      box-shadow: 0px 1px 3px 1px rgba(0, 0, 0, 0.15);\n",
              "      filter: drop-shadow(0px 1px 2px rgba(0, 0, 0, 0.3));\n",
              "      fill: #FFFFFF;\n",
              "    }\n",
              "  </style>\n",
              "\n",
              "      <script>\n",
              "        const buttonEl =\n",
              "          document.querySelector('#df-4ebf8e58-1688-4a73-b4cd-01b6fbc04591 button.colab-df-convert');\n",
              "        buttonEl.style.display =\n",
              "          google.colab.kernel.accessAllowed ? 'block' : 'none';\n",
              "\n",
              "        async function convertToInteractive(key) {\n",
              "          const element = document.querySelector('#df-4ebf8e58-1688-4a73-b4cd-01b6fbc04591');\n",
              "          const dataTable =\n",
              "            await google.colab.kernel.invokeFunction('convertToInteractive',\n",
              "                                                     [key], {});\n",
              "          if (!dataTable) return;\n",
              "\n",
              "          const docLinkHtml = 'Like what you see? Visit the ' +\n",
              "            '<a target=\"_blank\" href=https://colab.research.google.com/notebooks/data_table.ipynb>data table notebook</a>'\n",
              "            + ' to learn more about interactive tables.';\n",
              "          element.innerHTML = '';\n",
              "          dataTable['output_type'] = 'display_data';\n",
              "          await google.colab.output.renderOutput(dataTable, element);\n",
              "          const docLink = document.createElement('div');\n",
              "          docLink.innerHTML = docLinkHtml;\n",
              "          element.appendChild(docLink);\n",
              "        }\n",
              "      </script>\n",
              "    </div>\n",
              "  </div>\n",
              "  "
            ]
          },
          "metadata": {},
          "execution_count": 169
        }
      ]
    },
    {
      "cell_type": "code",
      "source": [
        "post = pd.DataFrame(post)"
      ],
      "metadata": {
        "id": "4HI6TxOd5y5A"
      },
      "execution_count": null,
      "outputs": []
    },
    {
      "cell_type": "code",
      "source": [
        "post.columns=['zipcodes', 'location']\n",
        "post"
      ],
      "metadata": {
        "colab": {
          "base_uri": "https://localhost:8080/",
          "height": 423
        },
        "id": "pBge9sjc8OzU",
        "outputId": "8b084496-44f9-4f46-ea55-57674df6e9d6"
      },
      "execution_count": null,
      "outputs": [
        {
          "output_type": "execute_result",
          "data": {
            "text/plain": [
              "      zipcodes                      location\n",
              "0         1601            ISLA MARTIN GARCIA\n",
              "1         1602                       FLORIDA\n",
              "2         1603                VILLA MARTELLI\n",
              "3         1605                    CARAPACHAY\n",
              "4         1607                 VILLA ADELINA\n",
              "...        ...                           ...\n",
              "1515      9409             ISLA GRAN MALVINA\n",
              "1516      9410                BAHIA LAPATAIA\n",
              "1517      9411  BASE AEREA TENIENTE MATIENZO\n",
              "1518      9420             ASERRADERO ARROYO\n",
              "1519      9421               FRIGORIFICO CAP\n",
              "\n",
              "[1520 rows x 2 columns]"
            ],
            "text/html": [
              "\n",
              "  <div id=\"df-0b6ac7a4-6cd8-4d5e-a993-0d3e82a8c130\">\n",
              "    <div class=\"colab-df-container\">\n",
              "      <div>\n",
              "<style scoped>\n",
              "    .dataframe tbody tr th:only-of-type {\n",
              "        vertical-align: middle;\n",
              "    }\n",
              "\n",
              "    .dataframe tbody tr th {\n",
              "        vertical-align: top;\n",
              "    }\n",
              "\n",
              "    .dataframe thead th {\n",
              "        text-align: right;\n",
              "    }\n",
              "</style>\n",
              "<table border=\"1\" class=\"dataframe\">\n",
              "  <thead>\n",
              "    <tr style=\"text-align: right;\">\n",
              "      <th></th>\n",
              "      <th>zipcodes</th>\n",
              "      <th>location</th>\n",
              "    </tr>\n",
              "  </thead>\n",
              "  <tbody>\n",
              "    <tr>\n",
              "      <th>0</th>\n",
              "      <td>1601</td>\n",
              "      <td>ISLA MARTIN GARCIA</td>\n",
              "    </tr>\n",
              "    <tr>\n",
              "      <th>1</th>\n",
              "      <td>1602</td>\n",
              "      <td>FLORIDA</td>\n",
              "    </tr>\n",
              "    <tr>\n",
              "      <th>2</th>\n",
              "      <td>1603</td>\n",
              "      <td>VILLA MARTELLI</td>\n",
              "    </tr>\n",
              "    <tr>\n",
              "      <th>3</th>\n",
              "      <td>1605</td>\n",
              "      <td>CARAPACHAY</td>\n",
              "    </tr>\n",
              "    <tr>\n",
              "      <th>4</th>\n",
              "      <td>1607</td>\n",
              "      <td>VILLA ADELINA</td>\n",
              "    </tr>\n",
              "    <tr>\n",
              "      <th>...</th>\n",
              "      <td>...</td>\n",
              "      <td>...</td>\n",
              "    </tr>\n",
              "    <tr>\n",
              "      <th>1515</th>\n",
              "      <td>9409</td>\n",
              "      <td>ISLA GRAN MALVINA</td>\n",
              "    </tr>\n",
              "    <tr>\n",
              "      <th>1516</th>\n",
              "      <td>9410</td>\n",
              "      <td>BAHIA LAPATAIA</td>\n",
              "    </tr>\n",
              "    <tr>\n",
              "      <th>1517</th>\n",
              "      <td>9411</td>\n",
              "      <td>BASE AEREA TENIENTE MATIENZO</td>\n",
              "    </tr>\n",
              "    <tr>\n",
              "      <th>1518</th>\n",
              "      <td>9420</td>\n",
              "      <td>ASERRADERO ARROYO</td>\n",
              "    </tr>\n",
              "    <tr>\n",
              "      <th>1519</th>\n",
              "      <td>9421</td>\n",
              "      <td>FRIGORIFICO CAP</td>\n",
              "    </tr>\n",
              "  </tbody>\n",
              "</table>\n",
              "<p>1520 rows × 2 columns</p>\n",
              "</div>\n",
              "      <button class=\"colab-df-convert\" onclick=\"convertToInteractive('df-0b6ac7a4-6cd8-4d5e-a993-0d3e82a8c130')\"\n",
              "              title=\"Convert this dataframe to an interactive table.\"\n",
              "              style=\"display:none;\">\n",
              "        \n",
              "  <svg xmlns=\"http://www.w3.org/2000/svg\" height=\"24px\"viewBox=\"0 0 24 24\"\n",
              "       width=\"24px\">\n",
              "    <path d=\"M0 0h24v24H0V0z\" fill=\"none\"/>\n",
              "    <path d=\"M18.56 5.44l.94 2.06.94-2.06 2.06-.94-2.06-.94-.94-2.06-.94 2.06-2.06.94zm-11 1L8.5 8.5l.94-2.06 2.06-.94-2.06-.94L8.5 2.5l-.94 2.06-2.06.94zm10 10l.94 2.06.94-2.06 2.06-.94-2.06-.94-.94-2.06-.94 2.06-2.06.94z\"/><path d=\"M17.41 7.96l-1.37-1.37c-.4-.4-.92-.59-1.43-.59-.52 0-1.04.2-1.43.59L10.3 9.45l-7.72 7.72c-.78.78-.78 2.05 0 2.83L4 21.41c.39.39.9.59 1.41.59.51 0 1.02-.2 1.41-.59l7.78-7.78 2.81-2.81c.8-.78.8-2.07 0-2.86zM5.41 20L4 18.59l7.72-7.72 1.47 1.35L5.41 20z\"/>\n",
              "  </svg>\n",
              "      </button>\n",
              "      \n",
              "  <style>\n",
              "    .colab-df-container {\n",
              "      display:flex;\n",
              "      flex-wrap:wrap;\n",
              "      gap: 12px;\n",
              "    }\n",
              "\n",
              "    .colab-df-convert {\n",
              "      background-color: #E8F0FE;\n",
              "      border: none;\n",
              "      border-radius: 50%;\n",
              "      cursor: pointer;\n",
              "      display: none;\n",
              "      fill: #1967D2;\n",
              "      height: 32px;\n",
              "      padding: 0 0 0 0;\n",
              "      width: 32px;\n",
              "    }\n",
              "\n",
              "    .colab-df-convert:hover {\n",
              "      background-color: #E2EBFA;\n",
              "      box-shadow: 0px 1px 2px rgba(60, 64, 67, 0.3), 0px 1px 3px 1px rgba(60, 64, 67, 0.15);\n",
              "      fill: #174EA6;\n",
              "    }\n",
              "\n",
              "    [theme=dark] .colab-df-convert {\n",
              "      background-color: #3B4455;\n",
              "      fill: #D2E3FC;\n",
              "    }\n",
              "\n",
              "    [theme=dark] .colab-df-convert:hover {\n",
              "      background-color: #434B5C;\n",
              "      box-shadow: 0px 1px 3px 1px rgba(0, 0, 0, 0.15);\n",
              "      filter: drop-shadow(0px 1px 2px rgba(0, 0, 0, 0.3));\n",
              "      fill: #FFFFFF;\n",
              "    }\n",
              "  </style>\n",
              "\n",
              "      <script>\n",
              "        const buttonEl =\n",
              "          document.querySelector('#df-0b6ac7a4-6cd8-4d5e-a993-0d3e82a8c130 button.colab-df-convert');\n",
              "        buttonEl.style.display =\n",
              "          google.colab.kernel.accessAllowed ? 'block' : 'none';\n",
              "\n",
              "        async function convertToInteractive(key) {\n",
              "          const element = document.querySelector('#df-0b6ac7a4-6cd8-4d5e-a993-0d3e82a8c130');\n",
              "          const dataTable =\n",
              "            await google.colab.kernel.invokeFunction('convertToInteractive',\n",
              "                                                     [key], {});\n",
              "          if (!dataTable) return;\n",
              "\n",
              "          const docLinkHtml = 'Like what you see? Visit the ' +\n",
              "            '<a target=\"_blank\" href=https://colab.research.google.com/notebooks/data_table.ipynb>data table notebook</a>'\n",
              "            + ' to learn more about interactive tables.';\n",
              "          element.innerHTML = '';\n",
              "          dataTable['output_type'] = 'display_data';\n",
              "          await google.colab.output.renderOutput(dataTable, element);\n",
              "          const docLink = document.createElement('div');\n",
              "          docLink.innerHTML = docLinkHtml;\n",
              "          element.appendChild(docLink);\n",
              "        }\n",
              "      </script>\n",
              "    </div>\n",
              "  </div>\n",
              "  "
            ]
          },
          "metadata": {},
          "execution_count": 171
        }
      ]
    },
    {
      "cell_type": "code",
      "source": [
        "data3uba['location']=data3uba['zipcodes']\n",
        "data3uba.head()"
      ],
      "metadata": {
        "colab": {
          "base_uri": "https://localhost:8080/",
          "height": 337
        },
        "id": "EKnnuQFT_zVB",
        "outputId": "21ff9937-bb36-42c5-d676-c1627feaa48e"
      },
      "execution_count": null,
      "outputs": [
        {
          "output_type": "execute_result",
          "data": {
            "text/plain": [
              "       last_name gender                                            address  \\\n",
              "0    daniel-haas      m       228-robert-branch\\nnorth-joanville,-ms-67810   \n",
              "1    amy-wallace      f  4440-edward-junctions-apt.-088\\neast-brian,-ar...   \n",
              "2      jody-kirk      f           3452-adam-mountains\\nkingburgh,-mn-04132   \n",
              "3  angela-hudson      f            8672-rasmussen-way\\nleviville,-id-98957   \n",
              "4   ashley-brown      f                   psc-6274,-box-1394\\napo-ap-22919   \n",
              "\n",
              "                       emails birth_date                 universities  \\\n",
              "0          kwoods@hotmail.com  71-Oct-17  universidad-de-buenos-aires   \n",
              "1       brookejones@yahoo.com  21-Mar-12  universidad-de-buenos-aires   \n",
              "2      tinaturner@hotmail.com  67-Oct-26  universidad-de-buenos-aires   \n",
              "3        cpatterson@yahoo.com  05-Feb-21  universidad-de-buenos-aires   \n",
              "4  turnerveronica@hotmail.com  35-Sep-28  universidad-de-buenos-aires   \n",
              "\n",
              "  inscription_date                                   careers zipcodes  age  \\\n",
              "0       2019-10-26                   técnico-para-bioterios-     3192   51   \n",
              "1       2020-09-24                                 actuario-     8431    1   \n",
              "2       2021-07-14                                 actuario-     3425  -45   \n",
              "3       2020-09-27  licenciatura-en-gestión-de-agroalimentos     3151   17   \n",
              "4       2020-02-01                 ingeniería-en-informática     6706  -13   \n",
              "\n",
              "  location  \n",
              "0     3192  \n",
              "1     8431  \n",
              "2     3425  \n",
              "3     3151  \n",
              "4     6706  "
            ],
            "text/html": [
              "\n",
              "  <div id=\"df-f2e21166-8afd-4f9a-bef3-74ef55967250\">\n",
              "    <div class=\"colab-df-container\">\n",
              "      <div>\n",
              "<style scoped>\n",
              "    .dataframe tbody tr th:only-of-type {\n",
              "        vertical-align: middle;\n",
              "    }\n",
              "\n",
              "    .dataframe tbody tr th {\n",
              "        vertical-align: top;\n",
              "    }\n",
              "\n",
              "    .dataframe thead th {\n",
              "        text-align: right;\n",
              "    }\n",
              "</style>\n",
              "<table border=\"1\" class=\"dataframe\">\n",
              "  <thead>\n",
              "    <tr style=\"text-align: right;\">\n",
              "      <th></th>\n",
              "      <th>last_name</th>\n",
              "      <th>gender</th>\n",
              "      <th>address</th>\n",
              "      <th>emails</th>\n",
              "      <th>birth_date</th>\n",
              "      <th>universities</th>\n",
              "      <th>inscription_date</th>\n",
              "      <th>careers</th>\n",
              "      <th>zipcodes</th>\n",
              "      <th>age</th>\n",
              "      <th>location</th>\n",
              "    </tr>\n",
              "  </thead>\n",
              "  <tbody>\n",
              "    <tr>\n",
              "      <th>0</th>\n",
              "      <td>daniel-haas</td>\n",
              "      <td>m</td>\n",
              "      <td>228-robert-branch\\nnorth-joanville,-ms-67810</td>\n",
              "      <td>kwoods@hotmail.com</td>\n",
              "      <td>71-Oct-17</td>\n",
              "      <td>universidad-de-buenos-aires</td>\n",
              "      <td>2019-10-26</td>\n",
              "      <td>técnico-para-bioterios-</td>\n",
              "      <td>3192</td>\n",
              "      <td>51</td>\n",
              "      <td>3192</td>\n",
              "    </tr>\n",
              "    <tr>\n",
              "      <th>1</th>\n",
              "      <td>amy-wallace</td>\n",
              "      <td>f</td>\n",
              "      <td>4440-edward-junctions-apt.-088\\neast-brian,-ar...</td>\n",
              "      <td>brookejones@yahoo.com</td>\n",
              "      <td>21-Mar-12</td>\n",
              "      <td>universidad-de-buenos-aires</td>\n",
              "      <td>2020-09-24</td>\n",
              "      <td>actuario-</td>\n",
              "      <td>8431</td>\n",
              "      <td>1</td>\n",
              "      <td>8431</td>\n",
              "    </tr>\n",
              "    <tr>\n",
              "      <th>2</th>\n",
              "      <td>jody-kirk</td>\n",
              "      <td>f</td>\n",
              "      <td>3452-adam-mountains\\nkingburgh,-mn-04132</td>\n",
              "      <td>tinaturner@hotmail.com</td>\n",
              "      <td>67-Oct-26</td>\n",
              "      <td>universidad-de-buenos-aires</td>\n",
              "      <td>2021-07-14</td>\n",
              "      <td>actuario-</td>\n",
              "      <td>3425</td>\n",
              "      <td>-45</td>\n",
              "      <td>3425</td>\n",
              "    </tr>\n",
              "    <tr>\n",
              "      <th>3</th>\n",
              "      <td>angela-hudson</td>\n",
              "      <td>f</td>\n",
              "      <td>8672-rasmussen-way\\nleviville,-id-98957</td>\n",
              "      <td>cpatterson@yahoo.com</td>\n",
              "      <td>05-Feb-21</td>\n",
              "      <td>universidad-de-buenos-aires</td>\n",
              "      <td>2020-09-27</td>\n",
              "      <td>licenciatura-en-gestión-de-agroalimentos</td>\n",
              "      <td>3151</td>\n",
              "      <td>17</td>\n",
              "      <td>3151</td>\n",
              "    </tr>\n",
              "    <tr>\n",
              "      <th>4</th>\n",
              "      <td>ashley-brown</td>\n",
              "      <td>f</td>\n",
              "      <td>psc-6274,-box-1394\\napo-ap-22919</td>\n",
              "      <td>turnerveronica@hotmail.com</td>\n",
              "      <td>35-Sep-28</td>\n",
              "      <td>universidad-de-buenos-aires</td>\n",
              "      <td>2020-02-01</td>\n",
              "      <td>ingeniería-en-informática</td>\n",
              "      <td>6706</td>\n",
              "      <td>-13</td>\n",
              "      <td>6706</td>\n",
              "    </tr>\n",
              "  </tbody>\n",
              "</table>\n",
              "</div>\n",
              "      <button class=\"colab-df-convert\" onclick=\"convertToInteractive('df-f2e21166-8afd-4f9a-bef3-74ef55967250')\"\n",
              "              title=\"Convert this dataframe to an interactive table.\"\n",
              "              style=\"display:none;\">\n",
              "        \n",
              "  <svg xmlns=\"http://www.w3.org/2000/svg\" height=\"24px\"viewBox=\"0 0 24 24\"\n",
              "       width=\"24px\">\n",
              "    <path d=\"M0 0h24v24H0V0z\" fill=\"none\"/>\n",
              "    <path d=\"M18.56 5.44l.94 2.06.94-2.06 2.06-.94-2.06-.94-.94-2.06-.94 2.06-2.06.94zm-11 1L8.5 8.5l.94-2.06 2.06-.94-2.06-.94L8.5 2.5l-.94 2.06-2.06.94zm10 10l.94 2.06.94-2.06 2.06-.94-2.06-.94-.94-2.06-.94 2.06-2.06.94z\"/><path d=\"M17.41 7.96l-1.37-1.37c-.4-.4-.92-.59-1.43-.59-.52 0-1.04.2-1.43.59L10.3 9.45l-7.72 7.72c-.78.78-.78 2.05 0 2.83L4 21.41c.39.39.9.59 1.41.59.51 0 1.02-.2 1.41-.59l7.78-7.78 2.81-2.81c.8-.78.8-2.07 0-2.86zM5.41 20L4 18.59l7.72-7.72 1.47 1.35L5.41 20z\"/>\n",
              "  </svg>\n",
              "      </button>\n",
              "      \n",
              "  <style>\n",
              "    .colab-df-container {\n",
              "      display:flex;\n",
              "      flex-wrap:wrap;\n",
              "      gap: 12px;\n",
              "    }\n",
              "\n",
              "    .colab-df-convert {\n",
              "      background-color: #E8F0FE;\n",
              "      border: none;\n",
              "      border-radius: 50%;\n",
              "      cursor: pointer;\n",
              "      display: none;\n",
              "      fill: #1967D2;\n",
              "      height: 32px;\n",
              "      padding: 0 0 0 0;\n",
              "      width: 32px;\n",
              "    }\n",
              "\n",
              "    .colab-df-convert:hover {\n",
              "      background-color: #E2EBFA;\n",
              "      box-shadow: 0px 1px 2px rgba(60, 64, 67, 0.3), 0px 1px 3px 1px rgba(60, 64, 67, 0.15);\n",
              "      fill: #174EA6;\n",
              "    }\n",
              "\n",
              "    [theme=dark] .colab-df-convert {\n",
              "      background-color: #3B4455;\n",
              "      fill: #D2E3FC;\n",
              "    }\n",
              "\n",
              "    [theme=dark] .colab-df-convert:hover {\n",
              "      background-color: #434B5C;\n",
              "      box-shadow: 0px 1px 3px 1px rgba(0, 0, 0, 0.15);\n",
              "      filter: drop-shadow(0px 1px 2px rgba(0, 0, 0, 0.3));\n",
              "      fill: #FFFFFF;\n",
              "    }\n",
              "  </style>\n",
              "\n",
              "      <script>\n",
              "        const buttonEl =\n",
              "          document.querySelector('#df-f2e21166-8afd-4f9a-bef3-74ef55967250 button.colab-df-convert');\n",
              "        buttonEl.style.display =\n",
              "          google.colab.kernel.accessAllowed ? 'block' : 'none';\n",
              "\n",
              "        async function convertToInteractive(key) {\n",
              "          const element = document.querySelector('#df-f2e21166-8afd-4f9a-bef3-74ef55967250');\n",
              "          const dataTable =\n",
              "            await google.colab.kernel.invokeFunction('convertToInteractive',\n",
              "                                                     [key], {});\n",
              "          if (!dataTable) return;\n",
              "\n",
              "          const docLinkHtml = 'Like what you see? Visit the ' +\n",
              "            '<a target=\"_blank\" href=https://colab.research.google.com/notebooks/data_table.ipynb>data table notebook</a>'\n",
              "            + ' to learn more about interactive tables.';\n",
              "          element.innerHTML = '';\n",
              "          dataTable['output_type'] = 'display_data';\n",
              "          await google.colab.output.renderOutput(dataTable, element);\n",
              "          const docLink = document.createElement('div');\n",
              "          docLink.innerHTML = docLinkHtml;\n",
              "          element.appendChild(docLink);\n",
              "        }\n",
              "      </script>\n",
              "    </div>\n",
              "  </div>\n",
              "  "
            ]
          },
          "metadata": {},
          "execution_count": 172
        }
      ]
    },
    {
      "cell_type": "code",
      "source": [
        "data3uba.columns = ['last_name', 'gender', 'address',\t'emails', 'birth_date', 'universities', 'inscription_date', 'careers', 'zipcodes', 'age','location']\n",
        "data3uba.head()"
      ],
      "metadata": {
        "colab": {
          "base_uri": "https://localhost:8080/",
          "height": 337
        },
        "id": "_x9a1nGg2pPJ",
        "outputId": "18857cb3-2adf-432f-c2f7-3e132ed9b8da"
      },
      "execution_count": null,
      "outputs": [
        {
          "output_type": "execute_result",
          "data": {
            "text/plain": [
              "       last_name gender                                            address  \\\n",
              "0    daniel-haas      m       228-robert-branch\\nnorth-joanville,-ms-67810   \n",
              "1    amy-wallace      f  4440-edward-junctions-apt.-088\\neast-brian,-ar...   \n",
              "2      jody-kirk      f           3452-adam-mountains\\nkingburgh,-mn-04132   \n",
              "3  angela-hudson      f            8672-rasmussen-way\\nleviville,-id-98957   \n",
              "4   ashley-brown      f                   psc-6274,-box-1394\\napo-ap-22919   \n",
              "\n",
              "                       emails birth_date                 universities  \\\n",
              "0          kwoods@hotmail.com  71-Oct-17  universidad-de-buenos-aires   \n",
              "1       brookejones@yahoo.com  21-Mar-12  universidad-de-buenos-aires   \n",
              "2      tinaturner@hotmail.com  67-Oct-26  universidad-de-buenos-aires   \n",
              "3        cpatterson@yahoo.com  05-Feb-21  universidad-de-buenos-aires   \n",
              "4  turnerveronica@hotmail.com  35-Sep-28  universidad-de-buenos-aires   \n",
              "\n",
              "  inscription_date                                   careers zipcodes  age  \\\n",
              "0       2019-10-26                   técnico-para-bioterios-     3192   51   \n",
              "1       2020-09-24                                 actuario-     8431    1   \n",
              "2       2021-07-14                                 actuario-     3425  -45   \n",
              "3       2020-09-27  licenciatura-en-gestión-de-agroalimentos     3151   17   \n",
              "4       2020-02-01                 ingeniería-en-informática     6706  -13   \n",
              "\n",
              "  location  \n",
              "0     3192  \n",
              "1     8431  \n",
              "2     3425  \n",
              "3     3151  \n",
              "4     6706  "
            ],
            "text/html": [
              "\n",
              "  <div id=\"df-21d2d259-81bd-47ce-83ad-81d5cba65d87\">\n",
              "    <div class=\"colab-df-container\">\n",
              "      <div>\n",
              "<style scoped>\n",
              "    .dataframe tbody tr th:only-of-type {\n",
              "        vertical-align: middle;\n",
              "    }\n",
              "\n",
              "    .dataframe tbody tr th {\n",
              "        vertical-align: top;\n",
              "    }\n",
              "\n",
              "    .dataframe thead th {\n",
              "        text-align: right;\n",
              "    }\n",
              "</style>\n",
              "<table border=\"1\" class=\"dataframe\">\n",
              "  <thead>\n",
              "    <tr style=\"text-align: right;\">\n",
              "      <th></th>\n",
              "      <th>last_name</th>\n",
              "      <th>gender</th>\n",
              "      <th>address</th>\n",
              "      <th>emails</th>\n",
              "      <th>birth_date</th>\n",
              "      <th>universities</th>\n",
              "      <th>inscription_date</th>\n",
              "      <th>careers</th>\n",
              "      <th>zipcodes</th>\n",
              "      <th>age</th>\n",
              "      <th>location</th>\n",
              "    </tr>\n",
              "  </thead>\n",
              "  <tbody>\n",
              "    <tr>\n",
              "      <th>0</th>\n",
              "      <td>daniel-haas</td>\n",
              "      <td>m</td>\n",
              "      <td>228-robert-branch\\nnorth-joanville,-ms-67810</td>\n",
              "      <td>kwoods@hotmail.com</td>\n",
              "      <td>71-Oct-17</td>\n",
              "      <td>universidad-de-buenos-aires</td>\n",
              "      <td>2019-10-26</td>\n",
              "      <td>técnico-para-bioterios-</td>\n",
              "      <td>3192</td>\n",
              "      <td>51</td>\n",
              "      <td>3192</td>\n",
              "    </tr>\n",
              "    <tr>\n",
              "      <th>1</th>\n",
              "      <td>amy-wallace</td>\n",
              "      <td>f</td>\n",
              "      <td>4440-edward-junctions-apt.-088\\neast-brian,-ar...</td>\n",
              "      <td>brookejones@yahoo.com</td>\n",
              "      <td>21-Mar-12</td>\n",
              "      <td>universidad-de-buenos-aires</td>\n",
              "      <td>2020-09-24</td>\n",
              "      <td>actuario-</td>\n",
              "      <td>8431</td>\n",
              "      <td>1</td>\n",
              "      <td>8431</td>\n",
              "    </tr>\n",
              "    <tr>\n",
              "      <th>2</th>\n",
              "      <td>jody-kirk</td>\n",
              "      <td>f</td>\n",
              "      <td>3452-adam-mountains\\nkingburgh,-mn-04132</td>\n",
              "      <td>tinaturner@hotmail.com</td>\n",
              "      <td>67-Oct-26</td>\n",
              "      <td>universidad-de-buenos-aires</td>\n",
              "      <td>2021-07-14</td>\n",
              "      <td>actuario-</td>\n",
              "      <td>3425</td>\n",
              "      <td>-45</td>\n",
              "      <td>3425</td>\n",
              "    </tr>\n",
              "    <tr>\n",
              "      <th>3</th>\n",
              "      <td>angela-hudson</td>\n",
              "      <td>f</td>\n",
              "      <td>8672-rasmussen-way\\nleviville,-id-98957</td>\n",
              "      <td>cpatterson@yahoo.com</td>\n",
              "      <td>05-Feb-21</td>\n",
              "      <td>universidad-de-buenos-aires</td>\n",
              "      <td>2020-09-27</td>\n",
              "      <td>licenciatura-en-gestión-de-agroalimentos</td>\n",
              "      <td>3151</td>\n",
              "      <td>17</td>\n",
              "      <td>3151</td>\n",
              "    </tr>\n",
              "    <tr>\n",
              "      <th>4</th>\n",
              "      <td>ashley-brown</td>\n",
              "      <td>f</td>\n",
              "      <td>psc-6274,-box-1394\\napo-ap-22919</td>\n",
              "      <td>turnerveronica@hotmail.com</td>\n",
              "      <td>35-Sep-28</td>\n",
              "      <td>universidad-de-buenos-aires</td>\n",
              "      <td>2020-02-01</td>\n",
              "      <td>ingeniería-en-informática</td>\n",
              "      <td>6706</td>\n",
              "      <td>-13</td>\n",
              "      <td>6706</td>\n",
              "    </tr>\n",
              "  </tbody>\n",
              "</table>\n",
              "</div>\n",
              "      <button class=\"colab-df-convert\" onclick=\"convertToInteractive('df-21d2d259-81bd-47ce-83ad-81d5cba65d87')\"\n",
              "              title=\"Convert this dataframe to an interactive table.\"\n",
              "              style=\"display:none;\">\n",
              "        \n",
              "  <svg xmlns=\"http://www.w3.org/2000/svg\" height=\"24px\"viewBox=\"0 0 24 24\"\n",
              "       width=\"24px\">\n",
              "    <path d=\"M0 0h24v24H0V0z\" fill=\"none\"/>\n",
              "    <path d=\"M18.56 5.44l.94 2.06.94-2.06 2.06-.94-2.06-.94-.94-2.06-.94 2.06-2.06.94zm-11 1L8.5 8.5l.94-2.06 2.06-.94-2.06-.94L8.5 2.5l-.94 2.06-2.06.94zm10 10l.94 2.06.94-2.06 2.06-.94-2.06-.94-.94-2.06-.94 2.06-2.06.94z\"/><path d=\"M17.41 7.96l-1.37-1.37c-.4-.4-.92-.59-1.43-.59-.52 0-1.04.2-1.43.59L10.3 9.45l-7.72 7.72c-.78.78-.78 2.05 0 2.83L4 21.41c.39.39.9.59 1.41.59.51 0 1.02-.2 1.41-.59l7.78-7.78 2.81-2.81c.8-.78.8-2.07 0-2.86zM5.41 20L4 18.59l7.72-7.72 1.47 1.35L5.41 20z\"/>\n",
              "  </svg>\n",
              "      </button>\n",
              "      \n",
              "  <style>\n",
              "    .colab-df-container {\n",
              "      display:flex;\n",
              "      flex-wrap:wrap;\n",
              "      gap: 12px;\n",
              "    }\n",
              "\n",
              "    .colab-df-convert {\n",
              "      background-color: #E8F0FE;\n",
              "      border: none;\n",
              "      border-radius: 50%;\n",
              "      cursor: pointer;\n",
              "      display: none;\n",
              "      fill: #1967D2;\n",
              "      height: 32px;\n",
              "      padding: 0 0 0 0;\n",
              "      width: 32px;\n",
              "    }\n",
              "\n",
              "    .colab-df-convert:hover {\n",
              "      background-color: #E2EBFA;\n",
              "      box-shadow: 0px 1px 2px rgba(60, 64, 67, 0.3), 0px 1px 3px 1px rgba(60, 64, 67, 0.15);\n",
              "      fill: #174EA6;\n",
              "    }\n",
              "\n",
              "    [theme=dark] .colab-df-convert {\n",
              "      background-color: #3B4455;\n",
              "      fill: #D2E3FC;\n",
              "    }\n",
              "\n",
              "    [theme=dark] .colab-df-convert:hover {\n",
              "      background-color: #434B5C;\n",
              "      box-shadow: 0px 1px 3px 1px rgba(0, 0, 0, 0.15);\n",
              "      filter: drop-shadow(0px 1px 2px rgba(0, 0, 0, 0.3));\n",
              "      fill: #FFFFFF;\n",
              "    }\n",
              "  </style>\n",
              "\n",
              "      <script>\n",
              "        const buttonEl =\n",
              "          document.querySelector('#df-21d2d259-81bd-47ce-83ad-81d5cba65d87 button.colab-df-convert');\n",
              "        buttonEl.style.display =\n",
              "          google.colab.kernel.accessAllowed ? 'block' : 'none';\n",
              "\n",
              "        async function convertToInteractive(key) {\n",
              "          const element = document.querySelector('#df-21d2d259-81bd-47ce-83ad-81d5cba65d87');\n",
              "          const dataTable =\n",
              "            await google.colab.kernel.invokeFunction('convertToInteractive',\n",
              "                                                     [key], {});\n",
              "          if (!dataTable) return;\n",
              "\n",
              "          const docLinkHtml = 'Like what you see? Visit the ' +\n",
              "            '<a target=\"_blank\" href=https://colab.research.google.com/notebooks/data_table.ipynb>data table notebook</a>'\n",
              "            + ' to learn more about interactive tables.';\n",
              "          element.innerHTML = '';\n",
              "          dataTable['output_type'] = 'display_data';\n",
              "          await google.colab.output.renderOutput(dataTable, element);\n",
              "          const docLink = document.createElement('div');\n",
              "          docLink.innerHTML = docLinkHtml;\n",
              "          element.appendChild(docLink);\n",
              "        }\n",
              "      </script>\n",
              "    </div>\n",
              "  </div>\n",
              "  "
            ]
          },
          "metadata": {},
          "execution_count": 173
        }
      ]
    },
    {
      "cell_type": "code",
      "source": [
        "data3uba['zipcodes'].value_counts().max()"
      ],
      "metadata": {
        "id": "mMulw8PwjVwA",
        "colab": {
          "base_uri": "https://localhost:8080/"
        },
        "outputId": "ff28fbfa-a788-4ab4-b6c6-5e39a394bd46"
      },
      "execution_count": null,
      "outputs": [
        {
          "output_type": "execute_result",
          "data": {
            "text/plain": [
              "18"
            ]
          },
          "metadata": {},
          "execution_count": 174
        }
      ]
    },
    {
      "cell_type": "code",
      "source": [
        "datasim= data3uba['zipcodes'].astype(str)\n",
        "print(datasim)"
      ],
      "metadata": {
        "colab": {
          "base_uri": "https://localhost:8080/"
        },
        "id": "k-aRvbs9Avgu",
        "outputId": "3fe5830a-c0a2-4e1c-8969-34388f14efb6"
      },
      "execution_count": null,
      "outputs": [
        {
          "output_type": "stream",
          "name": "stdout",
          "text": [
            "0       3192\n",
            "1       8431\n",
            "2       3425\n",
            "3       3151\n",
            "4       6706\n",
            "        ... \n",
            "9949    5353\n",
            "9950    5531\n",
            "9951    7536\n",
            "9952    6244\n",
            "9953    3461\n",
            "Name: zipcodes, Length: 9954, dtype: object\n"
          ]
        }
      ]
    },
    {
      "cell_type": "code",
      "source": [
        "datasim=pd.DataFrame(datasim)\n",
        "post=pd.DataFrame(post)"
      ],
      "metadata": {
        "id": "58B5qP72BNn6"
      },
      "execution_count": null,
      "outputs": []
    },
    {
      "cell_type": "code",
      "source": [
        "datasim.info()"
      ],
      "metadata": {
        "colab": {
          "base_uri": "https://localhost:8080/"
        },
        "id": "hcV8hbj2FBeN",
        "outputId": "79006f91-b61d-4639-8483-4e34edfc115e"
      },
      "execution_count": null,
      "outputs": [
        {
          "output_type": "stream",
          "name": "stdout",
          "text": [
            "<class 'pandas.core.frame.DataFrame'>\n",
            "Int64Index: 9959 entries, 0 to 9958\n",
            "Data columns (total 1 columns):\n",
            " #   Column    Non-Null Count  Dtype \n",
            "---  ------    --------------  ----- \n",
            " 0   zipcodes  9959 non-null   object\n",
            "dtypes: object(1)\n",
            "memory usage: 155.6+ KB\n"
          ]
        }
      ]
    },
    {
      "cell_type": "code",
      "source": [
        "post[\"location\"] = post[\"location\"].astype(\"string\")\n",
        "post[\"zipcodes\"] = post[\"zipcodes\"].astype(\"string\")  \n",
        " \n",
        "post.head()       "
      ],
      "metadata": {
        "colab": {
          "base_uri": "https://localhost:8080/",
          "height": 206
        },
        "id": "hZ2m2KFKCyy3",
        "outputId": "621c3b7f-a33f-4ab6-ea73-dca5594a6fc6"
      },
      "execution_count": null,
      "outputs": [
        {
          "output_type": "execute_result",
          "data": {
            "text/plain": [
              "  zipcodes            location\n",
              "0     1601  ISLA MARTIN GARCIA\n",
              "1     1602             FLORIDA\n",
              "2     1603      VILLA MARTELLI\n",
              "3     1605          CARAPACHAY\n",
              "4     1607       VILLA ADELINA"
            ],
            "text/html": [
              "\n",
              "  <div id=\"df-87c9ea9b-ae4c-4345-af70-4c7d8c553f43\">\n",
              "    <div class=\"colab-df-container\">\n",
              "      <div>\n",
              "<style scoped>\n",
              "    .dataframe tbody tr th:only-of-type {\n",
              "        vertical-align: middle;\n",
              "    }\n",
              "\n",
              "    .dataframe tbody tr th {\n",
              "        vertical-align: top;\n",
              "    }\n",
              "\n",
              "    .dataframe thead th {\n",
              "        text-align: right;\n",
              "    }\n",
              "</style>\n",
              "<table border=\"1\" class=\"dataframe\">\n",
              "  <thead>\n",
              "    <tr style=\"text-align: right;\">\n",
              "      <th></th>\n",
              "      <th>zipcodes</th>\n",
              "      <th>location</th>\n",
              "    </tr>\n",
              "  </thead>\n",
              "  <tbody>\n",
              "    <tr>\n",
              "      <th>0</th>\n",
              "      <td>1601</td>\n",
              "      <td>ISLA MARTIN GARCIA</td>\n",
              "    </tr>\n",
              "    <tr>\n",
              "      <th>1</th>\n",
              "      <td>1602</td>\n",
              "      <td>FLORIDA</td>\n",
              "    </tr>\n",
              "    <tr>\n",
              "      <th>2</th>\n",
              "      <td>1603</td>\n",
              "      <td>VILLA MARTELLI</td>\n",
              "    </tr>\n",
              "    <tr>\n",
              "      <th>3</th>\n",
              "      <td>1605</td>\n",
              "      <td>CARAPACHAY</td>\n",
              "    </tr>\n",
              "    <tr>\n",
              "      <th>4</th>\n",
              "      <td>1607</td>\n",
              "      <td>VILLA ADELINA</td>\n",
              "    </tr>\n",
              "  </tbody>\n",
              "</table>\n",
              "</div>\n",
              "      <button class=\"colab-df-convert\" onclick=\"convertToInteractive('df-87c9ea9b-ae4c-4345-af70-4c7d8c553f43')\"\n",
              "              title=\"Convert this dataframe to an interactive table.\"\n",
              "              style=\"display:none;\">\n",
              "        \n",
              "  <svg xmlns=\"http://www.w3.org/2000/svg\" height=\"24px\"viewBox=\"0 0 24 24\"\n",
              "       width=\"24px\">\n",
              "    <path d=\"M0 0h24v24H0V0z\" fill=\"none\"/>\n",
              "    <path d=\"M18.56 5.44l.94 2.06.94-2.06 2.06-.94-2.06-.94-.94-2.06-.94 2.06-2.06.94zm-11 1L8.5 8.5l.94-2.06 2.06-.94-2.06-.94L8.5 2.5l-.94 2.06-2.06.94zm10 10l.94 2.06.94-2.06 2.06-.94-2.06-.94-.94-2.06-.94 2.06-2.06.94z\"/><path d=\"M17.41 7.96l-1.37-1.37c-.4-.4-.92-.59-1.43-.59-.52 0-1.04.2-1.43.59L10.3 9.45l-7.72 7.72c-.78.78-.78 2.05 0 2.83L4 21.41c.39.39.9.59 1.41.59.51 0 1.02-.2 1.41-.59l7.78-7.78 2.81-2.81c.8-.78.8-2.07 0-2.86zM5.41 20L4 18.59l7.72-7.72 1.47 1.35L5.41 20z\"/>\n",
              "  </svg>\n",
              "      </button>\n",
              "      \n",
              "  <style>\n",
              "    .colab-df-container {\n",
              "      display:flex;\n",
              "      flex-wrap:wrap;\n",
              "      gap: 12px;\n",
              "    }\n",
              "\n",
              "    .colab-df-convert {\n",
              "      background-color: #E8F0FE;\n",
              "      border: none;\n",
              "      border-radius: 50%;\n",
              "      cursor: pointer;\n",
              "      display: none;\n",
              "      fill: #1967D2;\n",
              "      height: 32px;\n",
              "      padding: 0 0 0 0;\n",
              "      width: 32px;\n",
              "    }\n",
              "\n",
              "    .colab-df-convert:hover {\n",
              "      background-color: #E2EBFA;\n",
              "      box-shadow: 0px 1px 2px rgba(60, 64, 67, 0.3), 0px 1px 3px 1px rgba(60, 64, 67, 0.15);\n",
              "      fill: #174EA6;\n",
              "    }\n",
              "\n",
              "    [theme=dark] .colab-df-convert {\n",
              "      background-color: #3B4455;\n",
              "      fill: #D2E3FC;\n",
              "    }\n",
              "\n",
              "    [theme=dark] .colab-df-convert:hover {\n",
              "      background-color: #434B5C;\n",
              "      box-shadow: 0px 1px 3px 1px rgba(0, 0, 0, 0.15);\n",
              "      filter: drop-shadow(0px 1px 2px rgba(0, 0, 0, 0.3));\n",
              "      fill: #FFFFFF;\n",
              "    }\n",
              "  </style>\n",
              "\n",
              "      <script>\n",
              "        const buttonEl =\n",
              "          document.querySelector('#df-87c9ea9b-ae4c-4345-af70-4c7d8c553f43 button.colab-df-convert');\n",
              "        buttonEl.style.display =\n",
              "          google.colab.kernel.accessAllowed ? 'block' : 'none';\n",
              "\n",
              "        async function convertToInteractive(key) {\n",
              "          const element = document.querySelector('#df-87c9ea9b-ae4c-4345-af70-4c7d8c553f43');\n",
              "          const dataTable =\n",
              "            await google.colab.kernel.invokeFunction('convertToInteractive',\n",
              "                                                     [key], {});\n",
              "          if (!dataTable) return;\n",
              "\n",
              "          const docLinkHtml = 'Like what you see? Visit the ' +\n",
              "            '<a target=\"_blank\" href=https://colab.research.google.com/notebooks/data_table.ipynb>data table notebook</a>'\n",
              "            + ' to learn more about interactive tables.';\n",
              "          element.innerHTML = '';\n",
              "          dataTable['output_type'] = 'display_data';\n",
              "          await google.colab.output.renderOutput(dataTable, element);\n",
              "          const docLink = document.createElement('div');\n",
              "          docLink.innerHTML = docLinkHtml;\n",
              "          element.appendChild(docLink);\n",
              "        }\n",
              "      </script>\n",
              "    </div>\n",
              "  </div>\n",
              "  "
            ]
          },
          "metadata": {},
          "execution_count": 178
        }
      ]
    },
    {
      "cell_type": "code",
      "source": [
        " datasim = datasim.merge(post, on=\"zipcodes\", how=\"left\")\n",
        " datasim.head()"
      ],
      "metadata": {
        "colab": {
          "base_uri": "https://localhost:8080/",
          "height": 206
        },
        "id": "BupdBzEJDZGH",
        "outputId": "a7a2e499-7504-4abc-95dc-b7b8377d95c3"
      },
      "execution_count": null,
      "outputs": [
        {
          "output_type": "execute_result",
          "data": {
            "text/plain": [
              "  zipcodes                  location\n",
              "0     3192          COLONIA BERTOZZI\n",
              "1     8431                   EL HOYO\n",
              "2     3425              COSTA GRANDE\n",
              "3     3151                    ANTELO\n",
              "4     6706  EST JAUREGUI VA FLANDRIA"
            ],
            "text/html": [
              "\n",
              "  <div id=\"df-c12e47b4-f007-4ac5-949e-bae3dc4378bf\">\n",
              "    <div class=\"colab-df-container\">\n",
              "      <div>\n",
              "<style scoped>\n",
              "    .dataframe tbody tr th:only-of-type {\n",
              "        vertical-align: middle;\n",
              "    }\n",
              "\n",
              "    .dataframe tbody tr th {\n",
              "        vertical-align: top;\n",
              "    }\n",
              "\n",
              "    .dataframe thead th {\n",
              "        text-align: right;\n",
              "    }\n",
              "</style>\n",
              "<table border=\"1\" class=\"dataframe\">\n",
              "  <thead>\n",
              "    <tr style=\"text-align: right;\">\n",
              "      <th></th>\n",
              "      <th>zipcodes</th>\n",
              "      <th>location</th>\n",
              "    </tr>\n",
              "  </thead>\n",
              "  <tbody>\n",
              "    <tr>\n",
              "      <th>0</th>\n",
              "      <td>3192</td>\n",
              "      <td>COLONIA BERTOZZI</td>\n",
              "    </tr>\n",
              "    <tr>\n",
              "      <th>1</th>\n",
              "      <td>8431</td>\n",
              "      <td>EL HOYO</td>\n",
              "    </tr>\n",
              "    <tr>\n",
              "      <th>2</th>\n",
              "      <td>3425</td>\n",
              "      <td>COSTA GRANDE</td>\n",
              "    </tr>\n",
              "    <tr>\n",
              "      <th>3</th>\n",
              "      <td>3151</td>\n",
              "      <td>ANTELO</td>\n",
              "    </tr>\n",
              "    <tr>\n",
              "      <th>4</th>\n",
              "      <td>6706</td>\n",
              "      <td>EST JAUREGUI VA FLANDRIA</td>\n",
              "    </tr>\n",
              "  </tbody>\n",
              "</table>\n",
              "</div>\n",
              "      <button class=\"colab-df-convert\" onclick=\"convertToInteractive('df-c12e47b4-f007-4ac5-949e-bae3dc4378bf')\"\n",
              "              title=\"Convert this dataframe to an interactive table.\"\n",
              "              style=\"display:none;\">\n",
              "        \n",
              "  <svg xmlns=\"http://www.w3.org/2000/svg\" height=\"24px\"viewBox=\"0 0 24 24\"\n",
              "       width=\"24px\">\n",
              "    <path d=\"M0 0h24v24H0V0z\" fill=\"none\"/>\n",
              "    <path d=\"M18.56 5.44l.94 2.06.94-2.06 2.06-.94-2.06-.94-.94-2.06-.94 2.06-2.06.94zm-11 1L8.5 8.5l.94-2.06 2.06-.94-2.06-.94L8.5 2.5l-.94 2.06-2.06.94zm10 10l.94 2.06.94-2.06 2.06-.94-2.06-.94-.94-2.06-.94 2.06-2.06.94z\"/><path d=\"M17.41 7.96l-1.37-1.37c-.4-.4-.92-.59-1.43-.59-.52 0-1.04.2-1.43.59L10.3 9.45l-7.72 7.72c-.78.78-.78 2.05 0 2.83L4 21.41c.39.39.9.59 1.41.59.51 0 1.02-.2 1.41-.59l7.78-7.78 2.81-2.81c.8-.78.8-2.07 0-2.86zM5.41 20L4 18.59l7.72-7.72 1.47 1.35L5.41 20z\"/>\n",
              "  </svg>\n",
              "      </button>\n",
              "      \n",
              "  <style>\n",
              "    .colab-df-container {\n",
              "      display:flex;\n",
              "      flex-wrap:wrap;\n",
              "      gap: 12px;\n",
              "    }\n",
              "\n",
              "    .colab-df-convert {\n",
              "      background-color: #E8F0FE;\n",
              "      border: none;\n",
              "      border-radius: 50%;\n",
              "      cursor: pointer;\n",
              "      display: none;\n",
              "      fill: #1967D2;\n",
              "      height: 32px;\n",
              "      padding: 0 0 0 0;\n",
              "      width: 32px;\n",
              "    }\n",
              "\n",
              "    .colab-df-convert:hover {\n",
              "      background-color: #E2EBFA;\n",
              "      box-shadow: 0px 1px 2px rgba(60, 64, 67, 0.3), 0px 1px 3px 1px rgba(60, 64, 67, 0.15);\n",
              "      fill: #174EA6;\n",
              "    }\n",
              "\n",
              "    [theme=dark] .colab-df-convert {\n",
              "      background-color: #3B4455;\n",
              "      fill: #D2E3FC;\n",
              "    }\n",
              "\n",
              "    [theme=dark] .colab-df-convert:hover {\n",
              "      background-color: #434B5C;\n",
              "      box-shadow: 0px 1px 3px 1px rgba(0, 0, 0, 0.15);\n",
              "      filter: drop-shadow(0px 1px 2px rgba(0, 0, 0, 0.3));\n",
              "      fill: #FFFFFF;\n",
              "    }\n",
              "  </style>\n",
              "\n",
              "      <script>\n",
              "        const buttonEl =\n",
              "          document.querySelector('#df-c12e47b4-f007-4ac5-949e-bae3dc4378bf button.colab-df-convert');\n",
              "        buttonEl.style.display =\n",
              "          google.colab.kernel.accessAllowed ? 'block' : 'none';\n",
              "\n",
              "        async function convertToInteractive(key) {\n",
              "          const element = document.querySelector('#df-c12e47b4-f007-4ac5-949e-bae3dc4378bf');\n",
              "          const dataTable =\n",
              "            await google.colab.kernel.invokeFunction('convertToInteractive',\n",
              "                                                     [key], {});\n",
              "          if (!dataTable) return;\n",
              "\n",
              "          const docLinkHtml = 'Like what you see? Visit the ' +\n",
              "            '<a target=\"_blank\" href=https://colab.research.google.com/notebooks/data_table.ipynb>data table notebook</a>'\n",
              "            + ' to learn more about interactive tables.';\n",
              "          element.innerHTML = '';\n",
              "          dataTable['output_type'] = 'display_data';\n",
              "          await google.colab.output.renderOutput(dataTable, element);\n",
              "          const docLink = document.createElement('div');\n",
              "          docLink.innerHTML = docLinkHtml;\n",
              "          element.appendChild(docLink);\n",
              "        }\n",
              "      </script>\n",
              "    </div>\n",
              "  </div>\n",
              "  "
            ]
          },
          "metadata": {},
          "execution_count": 179
        }
      ]
    },
    {
      "cell_type": "code",
      "source": [
        "datasim.info()"
      ],
      "metadata": {
        "colab": {
          "base_uri": "https://localhost:8080/"
        },
        "id": "m0zit_6Q3NqB",
        "outputId": "5ccc0f75-a1de-4c30-eb19-db6a9bc4bdea"
      },
      "execution_count": null,
      "outputs": [
        {
          "output_type": "stream",
          "name": "stdout",
          "text": [
            "<class 'pandas.core.frame.DataFrame'>\n",
            "Int64Index: 9954 entries, 0 to 9953\n",
            "Data columns (total 2 columns):\n",
            " #   Column    Non-Null Count  Dtype \n",
            "---  ------    --------------  ----- \n",
            " 0   zipcodes  9954 non-null   object\n",
            " 1   location  9954 non-null   string\n",
            "dtypes: object(1), string(1)\n",
            "memory usage: 233.3+ KB\n"
          ]
        }
      ]
    },
    {
      "cell_type": "markdown",
      "source": [
        "\n",
        "# **Reporte Universidad de Buenos Aires**\n",
        "\n",
        "Como conclusión general, si bien hay una cantidad de inscriptos pareja entre hombres y mujeres, hay una selección de carreras marcadamente diferente por lo que si fuera de interés fomentar la inclusión de uno u otro a ciertas carreras entonces sería un punto importante a considerar para asignar becas, incentivos, etc.\n",
        "Asimismo, si bien las edades muestran una gran dispersión se ha debido eliminar gran cantidad de datos por ser incorrectos.\n",
        "\n",
        "Cantidad total de inscriptos: 9954\n",
        "\n",
        "Cantidad de inscriptos mayores de 18 años: 3035\n",
        "\n",
        "Edad promedio: 35 anios +/-10\n",
        "\n",
        "Localidad de mayor cantidad de inscriptos: Balderrama -4166-\n",
        "\n",
        "Carrera mas elegida por mujeres: Agronomia\n",
        "\n",
        "Carrera mas elegida por hombres: Ingenieria eletronica "
      ],
      "metadata": {
        "id": "mHWFbKdWanz2"
      }
    }
  ]
}